{
 "cells": [
  {
   "cell_type": "code",
   "execution_count": 1,
   "id": "de3601c9",
   "metadata": {},
   "outputs": [],
   "source": [
    "from dataset import *\n",
    "from train import *\n"
   ]
  },
  {
   "cell_type": "code",
   "execution_count": 2,
   "id": "968b35fd",
   "metadata": {},
   "outputs": [],
   "source": [
    "import os\n",
    "import pandas as pd\n",
    "\n",
    "import torch\n",
    "import torch.optim as optim\n",
    "\n",
    "import collections"
   ]
  },
  {
   "cell_type": "code",
   "execution_count": 3,
   "id": "a7616929",
   "metadata": {},
   "outputs": [],
   "source": [
    "# Set parameters\n",
    "EuroSat_Type = 'ALL'    \n",
    "target_country = 'France'\n",
    "\n",
    "lr = 0.01               # learn_rate\n",
    "milestones = [50,75,90] # multistep scheduler\n",
    "epochs = 100            # no of epochs\n",
    "\n",
    "output_path = \"./\" + target_country"
   ]
  },
  {
   "cell_type": "markdown",
   "id": "6e06f295",
   "metadata": {},
   "source": [
    "## Download data"
   ]
  },
  {
   "cell_type": "code",
   "execution_count": 4,
   "id": "2291844a",
   "metadata": {},
   "outputs": [],
   "source": [
    "# raw data\n",
    "if EuroSat_Type == 'RGB':\n",
    "  data_folder = '/content/sample_data/'\n",
    "  #root = os.path.join(data_folder, '2750/')\n",
    "  root = '2750/'\n",
    "  download_ON = os.path.exists(root)\n",
    "\n",
    "  if not download_ON:\n",
    "    # This can be long...\n",
    "    #os.chdir(data_folder)\n",
    "    os.system('wget http://madm.dfki.de/files/sentinel/EuroSAT.zip') #Just RGB Bands\n",
    "    !unzip EuroSAT.zip\n",
    "    download_ON = True\n",
    "elif EuroSat_Type == 'ALL':\n",
    "    root = 'ds/images/remote_sensing/otherDatasets/sentinel_2/tif/'\n",
    "    download_ON = os.path.exists(root)\n",
    "    if not download_ON:\n",
    "      os.system('wget http://madm.dfki.de/files/sentinel/EuroSATallBands.zip') #All bands\n",
    "      !unzip EuroSATallBands.zip\n",
    "      download_ON = True\n",
    "    \n",
    "data = torchvision.datasets.DatasetFolder(root=root,loader = iloader, transform=None, extensions = 'tif')"
   ]
  },
  {
   "cell_type": "code",
   "execution_count": 5,
   "id": "1180e6c2",
   "metadata": {},
   "outputs": [],
   "source": [
    "# Metadata\n",
    "geo_df = pd.read_csv(\"metadata.csv\")\n",
    "geo_dict = geo_df.to_dict()\n",
    "countries = list(set(geo_dict[\"country\"].values()))\n",
    "id_countries = dict.fromkeys(countries)\n",
    "for k in id_countries.keys():\n",
    "    id_countries[k] = [v for (i, v) in enumerate(geo_dict[\"id\"]) if geo_dict[\"country\"][i] == k]"
   ]
  },
  {
   "cell_type": "code",
   "execution_count": 6,
   "id": "c799fbd7",
   "metadata": {},
   "outputs": [],
   "source": [
    "# source - target split\n",
    "id_target = id_countries[target_country]\n",
    "id_train = random.sample(id_target, 320)\n",
    "id_test = list(set(id_target) - set(id_train))[0:160]\n",
    "\n",
    "loader_target_train = torch.utils.data.DataLoader(torch.utils.data.Subset(data, id_train), \n",
    "                                                  batch_size= 16, shuffle=False, num_workers=0)\n",
    "loader_target_test = torch.utils.data.DataLoader(torch.utils.data.Subset(data, id_test), \n",
    "                                                  batch_size= 16, shuffle=False, num_workers=0)\n",
    "\n",
    "id_random_source = random.sample(list(geo_dict[\"id\"].values()),\n",
    "                                len(loader_target_train.dataset))\n",
    "loader_random_source = torch.utils.data.DataLoader(torch.utils.data.Subset(data, id_random_source), \n",
    "                                                  batch_size= 16, shuffle=False, num_workers=0)"
   ]
  },
  {
   "cell_type": "code",
   "execution_count": 8,
   "id": "d1d713ba",
   "metadata": {},
   "outputs": [
    {
     "name": "stdout",
     "output_type": "stream",
     "text": [
      "nan Counter()\n",
      "Lietuva Counter({1: 18, 9: 17, 3: 16, 8: 16, 7: 11, 4: 10, 5: 2})\n",
      "Slovensko Counter({1: 226, 0: 60, 4: 34, 8: 30, 3: 18, 7: 17, 6: 13, 9: 13, 5: 3})\n",
      "Lëtzebuerg Counter({1: 33, 8: 17, 3: 9, 4: 2, 5: 2, 7: 1})\n",
      "Бългaрия Counter({1: 233, 0: 142, 9: 81, 7: 67, 4: 50, 6: 31, 3: 26, 5: 16, 2: 11, 8: 10})\n",
      "Österreich Counter({2: 313, 8: 230, 9: 206, 1: 132, 6: 115, 3: 70, 0: 47, 7: 33, 4: 21, 5: 7})\n",
      "Κύπρος - Kıbrıs Counter({2: 380, 6: 21, 7: 10, 4: 6, 3: 4})\n",
      "United Kingdom Counter({5: 990, 2: 787, 7: 351, 4: 334, 3: 207, 9: 184, 8: 79, 0: 42})\n",
      "Polska Counter({1: 420, 9: 242, 0: 219, 8: 138, 3: 81, 7: 80, 4: 75, 5: 16})\n",
      "België / Belgique / Belgien Counter({3: 69, 7: 53, 4: 52, 8: 37, 1: 33, 9: 21, 0: 1, 5: 1})\n",
      "España Counter({2: 704, 6: 451, 3: 298, 0: 267, 4: 189, 7: 153, 1: 97, 8: 72, 9: 63, 5: 10})\n",
      "Eesti Counter({9: 22, 3: 16, 4: 16, 5: 11, 7: 10, 1: 7})\n",
      "Danmark Counter({7: 202, 9: 100, 3: 61, 4: 54, 2: 21, 0: 16, 8: 5, 5: 2})\n",
      "Latvija Counter({8: 94, 5: 26, 9: 8, 3: 6, 4: 5, 0: 4, 1: 4, 7: 1})\n",
      "Slovenija Counter({4: 13})\n",
      "Ísland Counter({2: 35, 8: 12, 9: 3})\n",
      "Moldova Counter({8: 1})\n",
      "Suomi / Finland Counter({9: 301, 3: 74, 4: 22, 8: 21, 7: 8, 0: 4})\n",
      "România Counter({7: 159, 1: 148, 0: 140, 9: 112, 4: 89, 8: 55, 5: 27, 6: 11, 3: 8})\n",
      "Schweiz/Suisse/Svizzera/Svizra Counter({3: 22, 8: 13, 4: 9, 1: 8, 7: 7, 5: 3})\n",
      "Italia Counter({6: 341, 1: 249, 4: 211, 7: 202, 9: 100, 3: 77, 8: 56, 0: 21, 2: 3, 5: 1})\n",
      "Norge Counter({1: 24, 8: 1})\n",
      "Malta Counter({7: 1})\n",
      "Ελλάς Counter({2: 421, 6: 238, 7: 135, 1: 49, 9: 38, 3: 32, 4: 21, 8: 4})\n",
      "Sverige Counter({9: 518, 3: 138, 1: 76, 4: 42, 7: 38, 8: 32, 5: 11})\n",
      "Deutschland Counter({8: 753, 1: 717, 4: 627, 3: 578, 7: 537, 9: 425, 6: 398, 5: 194, 0: 182, 2: 4})\n",
      "Česko Counter({4: 72, 3: 70, 5: 66, 8: 54, 7: 31, 1: 18, 9: 12, 6: 6})\n",
      "Magyarország Counter({0: 438, 8: 53, 7: 36, 4: 24, 3: 22, 9: 17, 5: 8, 2: 4, 6: 3})\n",
      "Éire / Ireland Counter({5: 303, 2: 81, 9: 15, 8: 9, 3: 4, 7: 1})\n",
      "France Counter({0: 1388, 6: 854, 7: 719, 8: 465, 1: 438, 3: 403, 4: 352, 5: 274, 2: 234, 9: 125})\n",
      "Portugal Counter({3: 58, 4: 28, 8: 23, 9: 22, 7: 14, 6: 12, 1: 6, 2: 2})\n",
      "Nederland Counter({9: 355, 8: 220, 4: 132, 3: 131, 7: 123, 1: 56, 0: 28, 5: 27, 6: 3})\n"
     ]
    }
   ],
   "source": [
    "label_dict = dict.fromkeys(id_countries.keys())\n",
    "labels = dict.fromkeys(id_countries.keys())\n",
    "for key in id_countries.keys():\n",
    "    id_target = id_countries[key]\n",
    "    labels_ = [data.samples[i][1] for i in id_target]\n",
    "    labels[key] = labels_\n",
    "    label_dict[key] = list(collections.Counter(labels_).keys())\n",
    "    print(key, collections.Counter(labels_))"
   ]
  },
  {
   "cell_type": "code",
   "execution_count": null,
   "id": "6ffbeb33",
   "metadata": {},
   "outputs": [],
   "source": []
  }
 ],
 "metadata": {
  "kernelspec": {
   "display_name": "Python 3",
   "language": "python",
   "name": "python3"
  },
  "language_info": {
   "codemirror_mode": {
    "name": "ipython",
    "version": 3
   },
   "file_extension": ".py",
   "mimetype": "text/x-python",
   "name": "python",
   "nbconvert_exporter": "python",
   "pygments_lexer": "ipython3",
   "version": "3.7.0"
  }
 },
 "nbformat": 4,
 "nbformat_minor": 5
}
