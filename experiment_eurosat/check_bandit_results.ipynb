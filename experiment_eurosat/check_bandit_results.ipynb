{
 "cells": [
  {
   "cell_type": "markdown",
   "id": "cffce04b",
   "metadata": {},
   "source": [
    "With the bandit selection models, we evaluate their performances on the test set"
   ]
  },
  {
   "cell_type": "code",
   "execution_count": 1,
   "id": "b86e3904",
   "metadata": {},
   "outputs": [],
   "source": [
    "from dataset import *\n",
    "from train import *"
   ]
  },
  {
   "cell_type": "code",
   "execution_count": 2,
   "id": "cab060b2",
   "metadata": {},
   "outputs": [],
   "source": [
    "import os\n",
    "import pandas as pd\n",
    "\n",
    "import collections\n",
    "\n",
    "import sys\n",
    "\n",
    "import tarfile\n",
    "import torch\n",
    "import torch.optim as optim\n",
    "\n",
    "from pathlib import Path\n",
    "import glob"
   ]
  },
  {
   "cell_type": "code",
   "execution_count": 3,
   "id": "c6db3d26",
   "metadata": {},
   "outputs": [],
   "source": [
    "input_path = Path(\"derived_data/chtc_0730/\")\n",
    "output_path = input_path / \"test_results\"\n",
    "output_path.mkdir(parents = True, exist_ok = True)"
   ]
  },
  {
   "cell_type": "code",
   "execution_count": 4,
   "id": "c8526b14",
   "metadata": {},
   "outputs": [],
   "source": [
    "root = 'ds/images/remote_sensing/otherDatasets/sentinel_2/tif/'\n",
    "download_ON = os.path.exists(root)\n",
    "if not download_ON:\n",
    "  os.system('wget http://madm.dfki.de/files/sentinel/EuroSATallBands.zip') #All bands\n",
    "  !unzip EuroSATallBands.zip\n",
    "  download_ON = True\n",
    "    \n",
    "geo_df = pd.read_csv(\"metadata.csv\")\n",
    "\n",
    "data = torchvision.datasets.DatasetFolder(root=root,loader = iloader, transform = None, extensions = 'tif')\n",
    "labels = [v[1] for (i, v) in enumerate(data)]"
   ]
  },
  {
   "cell_type": "code",
   "execution_count": 5,
   "id": "81abb00e",
   "metadata": {
    "scrolled": false
   },
   "outputs": [
    {
     "name": "stdout",
     "output_type": "stream",
     "text": [
      "Model Loaded\n",
      "Model Loaded\n",
      "Model Loaded\n",
      "Model Loaded\n",
      "Model Loaded\n",
      "Model Loaded\n",
      "Model Loaded\n",
      "Model Loaded\n",
      "Model Loaded\n",
      "Model Loaded\n",
      "Model Loaded\n",
      "Model Loaded\n",
      "Model Loaded\n",
      "Model Loaded\n",
      "Model Loaded\n",
      "Model Loaded\n",
      "Model Loaded\n",
      "Model Loaded\n",
      "Model Loaded\n",
      "Model Loaded\n",
      "Model Loaded\n",
      "Model Loaded\n",
      "Model Loaded\n",
      "Model Loaded\n"
     ]
    }
   ],
   "source": [
    "test_results = []\n",
    "for tar_path in glob.glob(str(input_path) + \"/*tar.gz\"):\n",
    "    if \"United_Kingdom\" in tar_path:\n",
    "        continue\n",
    "    file = tarfile.open(tar_path)\n",
    "    file.extractall(output_path)\n",
    "    \n",
    "    model_path = glob.glob(str(output_path) + \"/*/*pt\")[0]\n",
    "    \n",
    "    model = Load_model()\n",
    "    model.load_state_dict(torch.load(model_path))\n",
    "    \n",
    "    [target_task, algorithm, target_size] = tar_path.split(\"/\")[-1].split(\".\")[0].split(\"derived_data_\")[-1].split(\"_\")\n",
    "    target_size = int(target_size)\n",
    "    input_data = prepare_input_data(geo_df, target_task, labels = labels,\n",
    "                               target_size = target_size)\n",
    "    \n",
    "    np.random.seed(0)\n",
    "    torch.cuda.manual_seed(0)\n",
    "    random.seed(0)\n",
    "\n",
    "    # prepare data ---\n",
    "\n",
    "    target_test_loader =  torch.utils.data.DataLoader(torch.utils.data.Subset(data, input_data[\"idx_test\"]), \n",
    "                                                      batch_size = 16, shuffle = True, num_workers = 0)\n",
    "\n",
    "\n",
    "    test_acc = validation(model, target_test_loader)\n",
    "    test_results.append({\n",
    "        \"target_task\": target_task,\n",
    "        \"target_size\": target_size,\n",
    "        \"algorithm\": algorithm,\n",
    "        \"test_acc\": test_acc\n",
    "    })\n",
    "    \n",
    "    os.system(\"rm -r \" + str(output_path) + \"/*\")\n",
    "    "
   ]
  },
  {
   "cell_type": "code",
   "execution_count": 6,
   "id": "9a01ea18",
   "metadata": {},
   "outputs": [],
   "source": [
    "pd.concat([pd.DataFrame(r, index = [0]) for r in test_results]).to_csv(input_path / \"test_acc.csv\")"
   ]
  },
  {
   "cell_type": "code",
   "execution_count": null,
   "id": "2b5f12ec",
   "metadata": {},
   "outputs": [],
   "source": []
  }
 ],
 "metadata": {
  "kernelspec": {
   "display_name": "Python 3",
   "language": "python",
   "name": "python3"
  },
  "language_info": {
   "codemirror_mode": {
    "name": "ipython",
    "version": 3
   },
   "file_extension": ".py",
   "mimetype": "text/x-python",
   "name": "python",
   "nbconvert_exporter": "python",
   "pygments_lexer": "ipython3",
   "version": "3.7.0"
  }
 },
 "nbformat": 4,
 "nbformat_minor": 5
}
