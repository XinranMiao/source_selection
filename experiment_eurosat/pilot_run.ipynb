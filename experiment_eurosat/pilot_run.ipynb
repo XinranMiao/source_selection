{
 "cells": [
  {
   "cell_type": "code",
   "execution_count": 1,
   "id": "de3601c9",
   "metadata": {},
   "outputs": [],
   "source": [
    "from dataset import *\n",
    "from train import *\n"
   ]
  },
  {
   "cell_type": "code",
   "execution_count": 2,
   "id": "968b35fd",
   "metadata": {},
   "outputs": [],
   "source": [
    "import os\n",
    "import pandas as pd\n",
    "\n",
    "import torch\n",
    "import torch.optim as optim"
   ]
  },
  {
   "cell_type": "code",
   "execution_count": 32,
   "id": "a7616929",
   "metadata": {},
   "outputs": [],
   "source": [
    "# Set parameters\n",
    "EuroSat_Type = 'ALL'    \n",
    "target_country = 'France'\n",
    "\n",
    "lr = 0.01               # learn_rate\n",
    "milestones = [50,75,90] # multistep scheduler\n",
    "epochs = 100            # no of epochs\n",
    "\n",
    "output_path = \"./\" + target_country"
   ]
  },
  {
   "cell_type": "markdown",
   "id": "6e06f295",
   "metadata": {},
   "source": [
    "## Download data"
   ]
  },
  {
   "cell_type": "code",
   "execution_count": 33,
   "id": "2291844a",
   "metadata": {},
   "outputs": [],
   "source": [
    "# raw data\n",
    "if EuroSat_Type == 'RGB':\n",
    "  data_folder = '/content/sample_data/'\n",
    "  #root = os.path.join(data_folder, '2750/')\n",
    "  root = '2750/'\n",
    "  download_ON = os.path.exists(root)\n",
    "\n",
    "  if not download_ON:\n",
    "    # This can be long...\n",
    "    #os.chdir(data_folder)\n",
    "    os.system('wget http://madm.dfki.de/files/sentinel/EuroSAT.zip') #Just RGB Bands\n",
    "    !unzip EuroSAT.zip\n",
    "    download_ON = True\n",
    "elif EuroSat_Type == 'ALL':\n",
    "    root = 'ds/images/remote_sensing/otherDatasets/sentinel_2/tif/'\n",
    "    download_ON = os.path.exists(root)\n",
    "    if not download_ON:\n",
    "      os.system('wget http://madm.dfki.de/files/sentinel/EuroSATallBands.zip') #All bands\n",
    "      !unzip EuroSATallBands.zip\n",
    "      download_ON = True\n",
    "    \n",
    "data = torchvision.datasets.DatasetFolder(root=root,loader = iloader, transform=None, extensions = 'tif')"
   ]
  },
  {
   "cell_type": "code",
   "execution_count": 34,
   "id": "1180e6c2",
   "metadata": {},
   "outputs": [],
   "source": [
    "# Metadata\n",
    "geo_df = pd.read_csv(\"metadata.csv\")\n",
    "geo_dict = geo_df.to_dict()\n",
    "countries = list(set(geo_dict[\"country\"].values()))\n",
    "id_countries = dict.fromkeys(countries)\n",
    "for k in id_countries.keys():\n",
    "    id_countries[k] = [v for (i, v) in enumerate(geo_dict[\"id\"]) if geo_dict[\"country\"][i] == k]"
   ]
  },
  {
   "cell_type": "code",
   "execution_count": 35,
   "id": "c799fbd7",
   "metadata": {},
   "outputs": [],
   "source": [
    "# source - target split\n",
    "id_target = id_countries[target_country]\n",
    "id_train = random.sample(id_target, 320)\n",
    "id_test = list(set(id_target) - set(id_train))[0:160]\n",
    "\n",
    "loader_target_train = torch.utils.data.DataLoader(torch.utils.data.Subset(data, id_train), \n",
    "                                                  batch_size= 16, shuffle=False, num_workers=0)\n",
    "loader_target_test = torch.utils.data.DataLoader(torch.utils.data.Subset(data, id_test), \n",
    "                                                  batch_size= 16, shuffle=False, num_workers=0)\n",
    "\n",
    "id_random_source = random.sample(list(geo_dict[\"id\"].values()),\n",
    "                                len(loader_target_train.dataset))\n",
    "loader_random_source = torch.utils.data.DataLoader(torch.utils.data.Subset(data, id_random_source), \n",
    "                                                  batch_size= 16, shuffle=False, num_workers=0)"
   ]
  },
  {
   "cell_type": "markdown",
   "id": "f6f126f2",
   "metadata": {},
   "source": [
    "## Train"
   ]
  },
  {
   "cell_type": "code",
   "execution_count": 36,
   "id": "a906424b",
   "metadata": {},
   "outputs": [
    {
     "name": "stdout",
     "output_type": "stream",
     "text": [
      "pytorch version 1.8.0\n",
      "Model Loaded\n"
     ]
    }
   ],
   "source": [
    "np.random.seed(0)\n",
    "torch.cuda.manual_seed(0)\n",
    "random.seed(0)\n",
    "print(\"pytorch version\", torch.__version__)\n",
    "criteria = torch.nn.CrossEntropyLoss()\n",
    "net = Load_model()\n",
    "if torch.cuda.is_available():\n",
    "    net=net.cuda()\n",
    "optimizer = optim.Adam(net.parameters(), lr=lr, betas=(0.9, 0.999), eps=1e-08, weight_decay=0, amsgrad=False)\n",
    "scheduler = optim.lr_scheduler.MultiStepLR(optimizer, milestones=milestones, gamma=0.1)"
   ]
  },
  {
   "cell_type": "code",
   "execution_count": 37,
   "id": "3a7de1c5",
   "metadata": {},
   "outputs": [],
   "source": [
    "#train_loader, val_loader, test_loader =Load_data(root)"
   ]
  },
  {
   "cell_type": "code",
   "execution_count": 38,
   "id": "ac02ad48",
   "metadata": {
    "scrolled": false
   },
   "outputs": [
    {
     "name": "stdout",
     "output_type": "stream",
     "text": [
      "Iteration Number 1800 432.5536468029022 seconds\n",
      "Train (epoch 91/100) [0/20 (0%)]\tLoss: 0.041504\tAccuracy: 1.0\tLearning Rate:1e-05\n"
     ]
    },
    {
     "data": {
      "image/png": "[encoded data removed]",
      "text/plain": [
       "<Figure size 432x288 with 1 Axes>"
      ]
     },
     "metadata": {
      "needs_background": "light"
     },
     "output_type": "display_data"
    },
    {
     "name": "stdout",
     "output_type": "stream",
     "text": [
      "validation accuracy : 0.8375\n"
     ]
    },
    {
     "data": {
      "image/png": "[encoded data removed]",
      "text/plain": [
       "<Figure size 432x288 with 1 Axes>"
      ]
     },
     "metadata": {
      "needs_background": "light"
     },
     "output_type": "display_data"
    },
    {
     "name": "stdout",
     "output_type": "stream",
     "text": [
      "e= 92 15.777458906173706 seconds\n",
      "e= 93 30.114022254943848 seconds\n",
      "e= 94 44.39270091056824 seconds\n",
      "e= 95 58.623064041137695 seconds\n",
      "e= 96 72.84579610824585 seconds\n",
      "e= 97 87.07905626296997 seconds\n",
      "e= 98 101.32552814483643 seconds\n",
      "e= 99 115.52685308456421 seconds\n",
      "e= 100 129.70383310317993 seconds\n"
     ]
    }
   ],
   "source": [
    "net = train(net, loader_target_train, loader_target_test, criteria, optimizer, epochs, scheduler)"
   ]
  },
  {
   "cell_type": "code",
   "execution_count": 15,
   "id": "78da3a02",
   "metadata": {},
   "outputs": [],
   "source": [
    "torch.save(net.state_dict(), output_path + \"target_train.pt\" )"
   ]
  },
  {
   "cell_type": "code",
   "execution_count": null,
   "id": "d6800823",
   "metadata": {
    "scrolled": true
   },
   "outputs": [
    {
     "name": "stdout",
     "output_type": "stream",
     "text": [
      "Iteration Number 0 0.8777849674224854 seconds\n",
      "Train (epoch 1/100) [0/20 (0%)]\tLoss: 2.448123\tAccuracy: 0.1875\tLearning Rate:1e-05\n"
     ]
    },
    {
     "data": {
      "image/png": "[encoded data removed]",
      "text/plain": [
       "<Figure size 432x288 with 1 Axes>"
      ]
     },
     "metadata": {
      "needs_background": "light"
     },
     "output_type": "display_data"
    },
    {
     "name": "stdout",
     "output_type": "stream",
     "text": [
      "validation accuracy : 0.0\n"
     ]
    },
    {
     "data": {
      "image/png": "[encoded data removed]",
      "text/plain": [
       "<Figure size 432x288 with 1 Axes>"
      ]
     },
     "metadata": {
      "needs_background": "light"
     },
     "output_type": "display_data"
    },
    {
     "name": "stdout",
     "output_type": "stream",
     "text": [
      "e= 2 16.671914100646973 seconds\n",
      "e= 3 30.309196949005127 seconds\n",
      "e= 4 46.82207274436951 seconds\n",
      "e= 5 62.915690898895264 seconds\n",
      "e= 6 78.23962092399597 seconds\n",
      "e= 7 92.86025810241699 seconds\n",
      "e= 8 107.6857979297638 seconds\n",
      "e= 9 121.82084393501282 seconds\n",
      "e= 10 136.64750003814697 seconds\n",
      "e= 11 150.5344738960266 seconds\n",
      "e= 12 164.09453010559082 seconds\n",
      "e= 13 177.6281759738922 seconds\n",
      "e= 14 191.14084577560425 seconds\n",
      "e= 15 204.65601110458374 seconds\n",
      "e= 16 219.06669688224792 seconds\n",
      "e= 17 232.93046307563782 seconds\n",
      "e= 18 247.53716897964478 seconds\n"
     ]
    }
   ],
   "source": [
    "net_random = Load_model()\n",
    "net_random = train(net_random, loader_random_source, loader_target_test, criteria, optimizer, epochs, scheduler)\n",
    "torch.save(net_random.state_dict(), output_path + \"random_source\" )"
   ]
  },
  {
   "cell_type": "code",
   "execution_count": null,
   "id": "73200d2e",
   "metadata": {},
   "outputs": [],
   "source": []
  }
 ],
 "metadata": {
  "kernelspec": {
   "display_name": "Python 3",
   "language": "python",
   "name": "python3"
  },
  "language_info": {
   "codemirror_mode": {
    "name": "ipython",
    "version": 3
   },
   "file_extension": ".py",
   "mimetype": "text/x-python",
   "name": "python",
   "nbconvert_exporter": "python",
   "pygments_lexer": "ipython3",
   "version": "3.7.0"
  }
 },
 "nbformat": 4,
 "nbformat_minor": 5
}
