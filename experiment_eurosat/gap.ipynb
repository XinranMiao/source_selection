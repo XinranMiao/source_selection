{
 "cells": [
  {
   "cell_type": "markdown",
   "id": "472a13b3",
   "metadata": {},
   "source": [
    "We want to understand whether there is a generalization gap between the source and target. Such gap exists across countries, but we are not sure whether it exists across clusters."
   ]
  },
  {
   "cell_type": "code",
   "execution_count": 1,
   "id": "de3601c9",
   "metadata": {},
   "outputs": [],
   "source": [
    "from dataset import *\n",
    "from train import *\n"
   ]
  },
  {
   "cell_type": "code",
   "execution_count": 2,
   "id": "968b35fd",
   "metadata": {},
   "outputs": [],
   "source": [
    "import os\n",
    "import pandas as pd\n",
    "\n",
    "import collections\n",
    "\n",
    "import torch\n",
    "import torch.optim as optim\n",
    "\n",
    "\n",
    "from sklearn.cluster import KMeans"
   ]
  },
  {
   "cell_type": "code",
   "execution_count": 237,
   "id": "299075ac",
   "metadata": {},
   "outputs": [],
   "source": [
    "n_cluster = 10\n",
    "epochs = 10\n",
    "lr = 0.01 "
   ]
  },
  {
   "cell_type": "markdown",
   "id": "6e06f295",
   "metadata": {},
   "source": [
    "## Clustering"
   ]
  },
  {
   "cell_type": "code",
   "execution_count": 238,
   "id": "73200d2e",
   "metadata": {},
   "outputs": [],
   "source": [
    "country_location_df = pd.read_csv(\"country_location.csv\", index_col=0)"
   ]
  },
  {
   "cell_type": "code",
   "execution_count": 239,
   "id": "a2a52b99",
   "metadata": {},
   "outputs": [
    {
     "data": {
      "text/html": [
       "<div>\n",
       "<style scoped>\n",
       "    .dataframe tbody tr th:only-of-type {\n",
       "        vertical-align: middle;\n",
       "    }\n",
       "\n",
       "    .dataframe tbody tr th {\n",
       "        vertical-align: top;\n",
       "    }\n",
       "\n",
       "    .dataframe thead th {\n",
       "        text-align: right;\n",
       "    }\n",
       "</style>\n",
       "<table border=\"1\" class=\"dataframe\">\n",
       "  <thead>\n",
       "    <tr style=\"text-align: right;\">\n",
       "      <th></th>\n",
       "      <th>country</th>\n",
       "      <th>count</th>\n",
       "      <th>latitude</th>\n",
       "      <th>longitude</th>\n",
       "    </tr>\n",
       "  </thead>\n",
       "  <tbody>\n",
       "    <tr>\n",
       "      <th>0</th>\n",
       "      <td>Sverige</td>\n",
       "      <td>855</td>\n",
       "      <td>59.674971</td>\n",
       "      <td>14.520858</td>\n",
       "    </tr>\n",
       "    <tr>\n",
       "      <th>1</th>\n",
       "      <td>France</td>\n",
       "      <td>5252</td>\n",
       "      <td>46.603354</td>\n",
       "      <td>1.888334</td>\n",
       "    </tr>\n",
       "    <tr>\n",
       "      <th>2</th>\n",
       "      <td>Eesti</td>\n",
       "      <td>82</td>\n",
       "      <td>58.752378</td>\n",
       "      <td>25.331908</td>\n",
       "    </tr>\n",
       "    <tr>\n",
       "      <th>3</th>\n",
       "      <td>Éire / Ireland</td>\n",
       "      <td>413</td>\n",
       "      <td>52.865196</td>\n",
       "      <td>-7.979460</td>\n",
       "    </tr>\n",
       "    <tr>\n",
       "      <th>4</th>\n",
       "      <td>Latvija</td>\n",
       "      <td>148</td>\n",
       "      <td>56.840649</td>\n",
       "      <td>24.753764</td>\n",
       "    </tr>\n",
       "  </tbody>\n",
       "</table>\n",
       "</div>"
      ],
      "text/plain": [
       "          country  count   latitude  longitude\n",
       "0         Sverige    855  59.674971  14.520858\n",
       "1          France   5252  46.603354   1.888334\n",
       "2           Eesti     82  58.752378  25.331908\n",
       "3  Éire / Ireland    413  52.865196  -7.979460\n",
       "4         Latvija    148  56.840649  24.753764"
      ]
     },
     "execution_count": 239,
     "metadata": {},
     "output_type": "execute_result"
    }
   ],
   "source": [
    "country_location_df.head()"
   ]
  },
  {
   "cell_type": "code",
   "execution_count": 240,
   "id": "692ebb3f",
   "metadata": {},
   "outputs": [],
   "source": [
    "country_location = country_location_df.to_dict(\"list\")"
   ]
  },
  {
   "cell_type": "code",
   "execution_count": 241,
   "id": "2a15149b",
   "metadata": {},
   "outputs": [
    {
     "data": {
      "text/plain": [
       "{0: 2619,\n",
       " 1: 2469,\n",
       " 2: 5756,\n",
       " 3: 50,\n",
       " 4: 750,\n",
       " 5: 421,\n",
       " 6: 3387,\n",
       " 7: 6658,\n",
       " 8: 2511,\n",
       " 9: 2355}"
      ]
     },
     "execution_count": 241,
     "metadata": {},
     "output_type": "execute_result"
    }
   ],
   "source": [
    "kmeans = KMeans(n_clusters= n_cluster, n_init=10, random_state=0, max_iter=1000)\n",
    "X = country_location_df.loc[:, [\"longitude\", \"latitude\"]]\n",
    "weights = country_location[\"count\"]\n",
    "\n",
    "kmeans.fit(X, sample_weight = weights)\n",
    "\n",
    "country_location_df[\"cluster\"] = kmeans.predict(X, sample_weight = weights)\n",
    "clusters = dict.fromkeys(list(range(n_cluster)), 0)\n",
    "for _, r in country_location_df.iterrows():\n",
    "    clusters[r[\"cluster\"]] += r[\"count\"]\n",
    "clusters"
   ]
  },
  {
   "cell_type": "code",
   "execution_count": 242,
   "id": "1cd13b86",
   "metadata": {},
   "outputs": [
    {
     "data": {
      "image/png": "[encoded data removed]",
      "text/plain": [
       "<Figure size 500x500 with 1 Axes>"
      ]
     },
     "metadata": {},
     "output_type": "display_data"
    }
   ],
   "source": [
    "import matplotlib.pyplot as plt\n",
    "\n",
    "plt.style.use('default')\n",
    "x = np.array(country_location_df['longitude'])\n",
    "y = np.array(country_location_df['latitude'])\n",
    "plt.figure(figsize = (5, 5))\n",
    "plt.scatter(x, y, s = 50, #cmap='viridis',\n",
    "            c = country_location_df[\"cluster\"],\n",
    "            label = 'Spend in Organic Products')\n",
    "plt.title('Clustering countries', fontsize = 18, fontweight = 'bold')\n",
    "plt.xlabel('Longitude', fontsize = 15)\n",
    "plt.ylabel('Latitude', fontsize = 15)\n",
    "\n",
    "centers = kmeans.cluster_centers_\n",
    "#plt.scatter(centers[:, 0], centers[:, 1], c='black', s=500, alpha=0.5);"
   ]
  },
  {
   "cell_type": "markdown",
   "id": "acae87e6",
   "metadata": {},
   "source": [
    "# Test the gap"
   ]
  },
  {
   "cell_type": "markdown",
   "id": "eb0c0dcf",
   "metadata": {},
   "source": [
    "## Load image data"
   ]
  },
  {
   "cell_type": "code",
   "execution_count": 243,
   "id": "68c58a90",
   "metadata": {},
   "outputs": [],
   "source": [
    "EuroSat_Type = 'ALL'\n",
    "if EuroSat_Type == 'RGB':\n",
    "  data_folder = '/content/sample_data/'\n",
    "  #root = os.path.join(data_folder, '2750/')\n",
    "  root = '2750/'\n",
    "  download_ON = os.path.exists(root)\n",
    "\n",
    "  if not download_ON:\n",
    "    # This can be long...\n",
    "    #os.chdir(data_folder)\n",
    "    os.system('wget http://madm.dfki.de/files/sentinel/EuroSAT.zip') #Just RGB Bands\n",
    "    !unzip EuroSAT.zip\n",
    "    download_ON = True\n",
    "elif EuroSat_Type == 'ALL':\n",
    "    root = 'ds/images/remote_sensing/otherDatasets/sentinel_2/tif/'\n",
    "    download_ON = os.path.exists(root)\n",
    "    if not download_ON:\n",
    "      os.system('wget http://madm.dfki.de/files/sentinel/EuroSATallBands.zip') #All bands\n",
    "      !unzip EuroSATallBands.zip\n",
    "      download_ON = True"
   ]
  },
  {
   "cell_type": "code",
   "execution_count": 244,
   "id": "a8775b20",
   "metadata": {},
   "outputs": [],
   "source": [
    "geo_df = pd.read_csv(\"metadata.csv\")\n",
    "geo_df = pd.merge(geo_df, country_location_df.loc[:, [\"country\", \"cluster\"]], on='country', how='inner')\n",
    "geo_df.to_csv(\"metadata_clustered\" + str(n_cluster) + \".csv\")\n"
   ]
  },
  {
   "cell_type": "code",
   "execution_count": 245,
   "id": "44c6ff59",
   "metadata": {},
   "outputs": [],
   "source": [
    "data = torchvision.datasets.DatasetFolder(root=root,loader = iloader, transform = None, extensions = 'tif')\n",
    "labels = [v[1] for (i, v) in enumerate(data)]"
   ]
  },
  {
   "cell_type": "code",
   "execution_count": 220,
   "id": "6158833b",
   "metadata": {},
   "outputs": [],
   "source": [
    "labels = [v[1] for (i, v) in enumerate(data)]"
   ]
  },
  {
   "cell_type": "code",
   "execution_count": 221,
   "id": "a4d11606",
   "metadata": {},
   "outputs": [],
   "source": [
    "def prepare_input_data(geo_df, target_task, group_by = \"country\",\n",
    "                       labels = None, \n",
    "                       train_size = 320, test_size = 320, target_size = 1600):\n",
    "    \n",
    "    geo_dict = geo_df.to_dict()\n",
    "    groups = list(set(geo_dict[group_by].values()))\n",
    "    groups = [x for x in groups if str(x) != \"nan\"]\n",
    "    id_groups = dict.fromkeys(groups)\n",
    "    for k in id_groups.keys():\n",
    "        id_groups[k] = [v for (i, v) in enumerate(geo_dict[\"id\"]) if geo_dict[group_by][i] == k]\n",
    "\n",
    "    # create a dictionary for input data\n",
    "    \n",
    "    input_data = {\n",
    "        \"source_task\": list(set(id_groups.keys()) - set([target_task])),\n",
    "        \"target_task\": target_task\n",
    "    }\n",
    "\n",
    "    \n",
    "    # all data, both source and target\n",
    "    \n",
    "    input_data[\"data_dict\"] = {}\n",
    "    for k in geo_dict.keys():\n",
    "        input_data[\"data_dict\"][k] = [geo_dict[k][i] for (i, v) in enumerate(geo_dict[group_by].values()) if str(v) != \"nan\"]\n",
    "\n",
    "\n",
    "        \n",
    "    # split indices for source and target\n",
    "    \n",
    "    input_data[\"idx_source\"] = [i for (i, v) in enumerate(input_data[\"data_dict\"][group_by]) if v != input_data[\"target_task\"]]\n",
    "    input_data[\"idx_target\"] = [i for (i, v) in enumerate(input_data[\"data_dict\"][group_by]) if v == input_data[\"target_task\"]]\n",
    "\n",
    "    target_labels = list(set([labels[i] for i in input_data[\"idx_target\"]]))\n",
    "    input_data[\"target_labels\"] = target_labels\n",
    "    \n",
    "    # rewrite the source indices, because some countries may have non-overlapping labels with the target task\n",
    "    input_data[\"idx_source\"] = [i for i in input_data[\"idx_source\"] if labels[i] in target_labels]\n",
    "    \n",
    "    # For source data, create a dictionary to record the countries\n",
    "    input_data[\"source_dict\"] = {}\n",
    "    \n",
    "    for k in geo_dict.keys():\n",
    "        input_data[\"source_dict\"][k] = [input_data[\"data_dict\"][k][i] for i in idx_source]\n",
    "    \n",
    "    \n",
    "   \n",
    "    input_data[\"source_task\"] = list(set(input_data[\"source_dict\"][group_by]))\n",
    "    \n",
    "    input_data[\"source_labels\"] = list(set([labels[i] for i in input_data[\"idx_source\"]]))\n",
    "    # resample the target to make the number of samples is fixed\n",
    "    \n",
    "   # if len(input_data[\"idx_target\"]) >= target_size:\n",
    "       # input_data[\"idx_target\"] = random.sample(input_data[\"idx_target\"], k = target_size)\n",
    "    #else:\n",
    "       # input_data[\"idx_target\"] = random.choices(input_data[\"idx_target\"], k = target_size)\n",
    "        \n",
    "    \n",
    "    # split the target data into train / validation / test sets\n",
    "    \n",
    "    y_target = [labels[i] for i in input_data[\"idx_target\"]]\n",
    "    input_data[\"idx_train\"], idx_rest, _, y_rest = train_test_split(input_data[\"idx_target\"],\n",
    "                                                              y_target,\n",
    "                                                             train_size = target_size,\n",
    "                                                              random_state = 0, shuffle = True)\n",
    "    \n",
    "    input_data[\"idx_val\"], input_data[\"idx_test\"], _, _ = train_test_split(idx_rest,\n",
    "                                                              y_rest,\n",
    "                                                              train_size = train_size,\n",
    "                                                              test_size = test_size,\n",
    "                                                              random_state = 0, shuffle = True)\n",
    "    \n",
    "    \n",
    "    input_data[\"target_size\"] = target_size\n",
    "    return input_data\n",
    "\n"
   ]
  },
  {
   "cell_type": "code",
   "execution_count": 222,
   "id": "c63fa263",
   "metadata": {},
   "outputs": [],
   "source": [
    "input_data = prepare_input_data(geo_df, target_task = 0, group_by = \"cluster\", \n",
    "                                labels = labels,\n",
    "                               train_size = 320, test_size = 160, target_size = 320)"
   ]
  },
  {
   "cell_type": "markdown",
   "id": "7175a138",
   "metadata": {},
   "source": [
    "## set up training"
   ]
  },
  {
   "cell_type": "code",
   "execution_count": 223,
   "id": "c610c969",
   "metadata": {},
   "outputs": [],
   "source": [
    "np.random.seed(0)\n",
    "torch.cuda.manual_seed(0)\n",
    "random.seed(0)\n",
    "\n",
    "target_val_loader =  torch.utils.data.DataLoader(torch.utils.data.Subset(data, input_data[\"idx_val\"]), \n",
    "                                              batch_size = 16, shuffle = True, num_workers = 0)\n",
    "target_train_loader =  torch.utils.data.DataLoader(torch.utils.data.Subset(data, input_data[\"idx_train\"]), \n",
    "                                                  batch_size = 16, shuffle = True, num_workers = 0)\n",
    "target_test_loader =  torch.utils.data.DataLoader(torch.utils.data.Subset(data, input_data[\"idx_test\"]), \n",
    "                                                  batch_size = 16, shuffle = True, num_workers = 0)\n",
    "\n",
    "\n"
   ]
  },
  {
   "cell_type": "code",
   "execution_count": 224,
   "id": "8b102b3c",
   "metadata": {},
   "outputs": [],
   "source": [
    "random_indicies = random.sample(input_data[\"idx_source\"], 320)\n",
    "random_source_loader =  torch.utils.data.DataLoader(torch.utils.data.Subset(data,\n",
    "                                                                            random_indicies), \n",
    "                                                  batch_size = 16, shuffle = True, num_workers = 0)\n"
   ]
  },
  {
   "cell_type": "code",
   "execution_count": 225,
   "id": "9c835ef6",
   "metadata": {},
   "outputs": [
    {
     "name": "stdout",
     "output_type": "stream",
     "text": [
      "dict_values([115, 28, 46, 19, 36, 29, 47])\n",
      "dict_values([53, 26, 45, 104, 25, 37, 30])\n",
      "dict_values([29, 16, 24, 13, 52, 18, 8])\n",
      "dict_values([63, 13, 56, 46, 53, 49, 40])\n"
     ]
    }
   ],
   "source": [
    "for indices in input_data[\"idx_train\"], input_data[\"idx_val\"], input_data[\"idx_test\"], random_indicies:\n",
    "    current_labels = [data.samples[i][1] for i in indices]\n",
    "    print(collections.Counter(current_labels).values())"
   ]
  },
  {
   "cell_type": "code",
   "execution_count": 226,
   "id": "d74bd666",
   "metadata": {},
   "outputs": [
    {
     "name": "stdout",
     "output_type": "stream",
     "text": [
      "Model Loaded\n"
     ]
    }
   ],
   "source": [
    "criteria = torch.nn.CrossEntropyLoss()\n",
    "net = Load_model()\n",
    "if torch.cuda.is_available():\n",
    "    net=net.cuda()\n",
    "optimizer = optim.Adam(net.parameters(), lr=lr, betas=(0.9, 0.999), eps=1e-08, weight_decay=0, amsgrad=False)\n",
    "scheduler = optim.lr_scheduler.MultiStepLR(optimizer, milestones=milestones, gamma=0.1)"
   ]
  },
  {
   "cell_type": "markdown",
   "id": "062d7710",
   "metadata": {},
   "source": [
    "## On target train"
   ]
  },
  {
   "cell_type": "code",
   "execution_count": 227,
   "id": "b777a324",
   "metadata": {},
   "outputs": [],
   "source": [
    "def train(net, train_, val_, criterion, optimizer, epochs=None, scheduler=None, weights=None, save_epoch = 10,\n",
    "plot = False):\n",
    "    t0 = time.time()\n",
    "    losses=[]; acc=[]; mean_losses=[]; \n",
    "    train_acc = []; val_acc=[]; train_losses = []\n",
    "    iter_ = 0\n",
    "\n",
    "    for e in range(1, epochs + 1):\n",
    "        print('e=',e,'{} seconds'.format(time.time() - t0))\n",
    "\n",
    "        net.train()\n",
    "        y_train = []; yhat_train = []\n",
    "        for batch_idx, (data, target) in enumerate(train_):\n",
    "\n",
    "            if torch.cuda.is_available():\n",
    "                data, target =  cus_aug(Variable(data.cuda())), Variable(target.cuda())\n",
    "            else:\n",
    "                data, target =  cus_aug(Variable(data)), Variable(target)\n",
    "\n",
    "            optimizer.zero_grad()\n",
    "            output = net(data)\n",
    "            loss = criterion(output, target)\n",
    "            loss.backward()\n",
    "            optimizer.step()\n",
    "            losses = np.append(losses,loss.item())\n",
    "            mean_losses = np.append(mean_losses, np.mean(losses[max(0,iter_-100):iter_]))\n",
    "\n",
    "            clear_output()\n",
    "            pred = output.data.cpu().numpy()#[0]\n",
    "            pred = sigmoid(pred)# (16, 10)\n",
    "            gt = target.data.cpu().numpy()#[0]\n",
    "            acc = np.append(acc, accuracy(gt, pred))\n",
    "\n",
    "            # visualize ---\n",
    "            if iter_ % 10 == 0: #printing after 600 epochs\n",
    "                print('Iteration Number',iter_,'{} seconds'.format(time.time() - t0))\n",
    "                t0 = time.time()\n",
    "                pred = output.data.cpu().numpy()#[0]\n",
    "                pred=sigmoid(pred)\n",
    "                gt = target.data.cpu().numpy()#[0]\n",
    "                acc = np.append(acc,accuracy(gt,pred))\n",
    "                print('Train (epoch {}/{}) [{}/{} ({:.0f}%)]\\tLoss: {:.6f}\\tAccuracy: {}\\tLearning Rate:{}'.format(\n",
    "                    e, epochs, batch_idx, len(train_),\n",
    "                    100. * batch_idx / len(train_), loss.item(), acc[-1],optimizer.param_groups[0]['lr']))\n",
    "                plt.plot(mean_losses) and plt.show()\n",
    "                val_acc = np.append(val_acc,validation(net, val_)[0])\n",
    "                print('validation accuracy : {}'.format(val_acc[-1]))\n",
    "                plt.plot( range(len(acc)) ,acc,'b',label = 'training')\n",
    "                plt.plot( range(len(val_acc)), val_acc,'r--',label = 'validation')\n",
    "                plt.legend() and plt.show()\n",
    "                #print(mylabels[np.where(gt[1,:])[0]])\n",
    "                \n",
    "            # ---\n",
    "            print('Train (epoch {}/{}) [{}/{} ({:.0f}%)]\\tLoss: {:.6f}\\tAccuracy: {}\\tLearning Rate:{}'.format(\n",
    "            e, epochs, batch_idx, len(train_),\n",
    "        100. * batch_idx / len(train_), loss.item(), acc[-1],optimizer.param_groups[0]['lr']))\n",
    "\n",
    "            iter_ += 1\n",
    "\n",
    "            del(data, target, loss)\n",
    "\n",
    "            # save predictions at the last epoch\n",
    "            if e == epochs:\n",
    "                y_train = y_train + np.asarray(gt).tolist()\n",
    "\n",
    "                _, predictions = torch.max(torch.from_numpy(pred), 1)\n",
    "                yhat_train = yhat_train + np.asarray(predictions).tolist()\n",
    "            \n",
    "            \n",
    "\n",
    "        train_losses = np.append(train_losses, np.mean(losses))\n",
    "        train_acc = np.append(train_acc, np.mean(acc))\n",
    "        if scheduler is not None:\n",
    "           scheduler.step()\n",
    "        #if e % save_epoch == 0:\n",
    "            #torch.save(net.state_dict(), '.\\Eurosat{}'.format(e))\n",
    "\n",
    "        # make predictions on the validation set\n",
    "        val_acc_, y_val, yhat_val = validation(net, val_)\n",
    "        val_acc = np.append(val_acc, val_acc_)\n",
    "        \n",
    "        train_dict = {\"y_train\": y_train,\n",
    "                 \"yhat_train\": yhat_train}\n",
    "        val_dict = {\"y_val\": y_val,\n",
    "               \"yhat_val\": yhat_val}\n",
    "\n",
    "    \n",
    "                \n",
    "    return net, val_acc, train_acc, train_losses, train_dict, val_dict\n",
    "\n"
   ]
  },
  {
   "cell_type": "code",
   "execution_count": 228,
   "id": "4b80e9ab",
   "metadata": {},
   "outputs": [
    {
     "name": "stdout",
     "output_type": "stream",
     "text": [
      "Train (epoch 10/10) [9/10 (90%)]\tLoss: 2.142477\tAccuracy: 0.0625\tLearning Rate:0.01\n"
     ]
    }
   ],
   "source": [
    "net = Load_model()\n",
    "net, val_acc, train_acc, _, _, _ = train(net, target_test_loader, target_test_loader, criteria, optimizer, epochs, scheduler)"
   ]
  },
  {
   "cell_type": "code",
   "execution_count": 229,
   "id": "afb9942d",
   "metadata": {},
   "outputs": [
    {
     "name": "stdout",
     "output_type": "stream",
     "text": [
      "Train (epoch 10/10) [19/20 (95%)]\tLoss: 2.363656\tAccuracy: 0.0625\tLearning Rate:0.01\n"
     ]
    }
   ],
   "source": [
    "net = Load_model()\n",
    "net, val_acc, train_acc, _, _, _ = train(net, target_train_loader, target_test_loader, criteria, optimizer, epochs, scheduler)"
   ]
  },
  {
   "cell_type": "code",
   "execution_count": 230,
   "id": "098876fd",
   "metadata": {},
   "outputs": [
    {
     "data": {
      "text/plain": [
       "0.1125"
      ]
     },
     "execution_count": 230,
     "metadata": {},
     "output_type": "execute_result"
    }
   ],
   "source": [
    "val_acc[-1]       "
   ]
  },
  {
   "cell_type": "markdown",
   "id": "015d15fd",
   "metadata": {},
   "source": [
    "## On random source"
   ]
  },
  {
   "cell_type": "code",
   "execution_count": 231,
   "id": "a4d34c5c",
   "metadata": {},
   "outputs": [
    {
     "name": "stdout",
     "output_type": "stream",
     "text": [
      "Train (epoch 10/10) [19/20 (95%)]\tLoss: 2.395190\tAccuracy: 0.1875\tLearning Rate:0.01\n"
     ]
    }
   ],
   "source": [
    "net_random = Load_model()\n",
    "net_random, val_acc, train_acc, _, _, _  = train(net, random_source_loader, target_test_loader, criteria, optimizer, epochs, scheduler)\n",
    "#torch.save(net_random.state_dict(), output_path + \"random_source\" )"
   ]
  },
  {
   "cell_type": "code",
   "execution_count": 232,
   "id": "10fd6c19",
   "metadata": {},
   "outputs": [
    {
     "data": {
      "text/plain": [
       "0.09375"
      ]
     },
     "execution_count": 232,
     "metadata": {},
     "output_type": "execute_result"
    }
   ],
   "source": [
    "val_acc[-1]"
   ]
  },
  {
   "cell_type": "code",
   "execution_count": null,
   "id": "296dfd7c",
   "metadata": {},
   "outputs": [],
   "source": []
  },
  {
   "cell_type": "code",
   "execution_count": null,
   "id": "dc88a835",
   "metadata": {},
   "outputs": [],
   "source": []
  }
 ],
 "metadata": {
  "kernelspec": {
   "display_name": "Python 3",
   "language": "python",
   "name": "python3"
  },
  "language_info": {
   "codemirror_mode": {
    "name": "ipython",
    "version": 3
   },
   "file_extension": ".py",
   "mimetype": "text/x-python",
   "name": "python",
   "nbconvert_exporter": "python",
   "pygments_lexer": "ipython3",
   "version": "3.7.0"
  }
 },
 "nbformat": 4,
 "nbformat_minor": 5
}
