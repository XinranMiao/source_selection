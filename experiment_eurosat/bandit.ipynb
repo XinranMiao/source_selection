{
 "cells": [
  {
   "cell_type": "code",
   "execution_count": 1,
   "id": "6a296089",
   "metadata": {},
   "outputs": [],
   "source": [
    "from dataset import *\n",
    "from train import *"
   ]
  },
  {
   "cell_type": "code",
   "execution_count": 2,
   "id": "2ca6210b",
   "metadata": {},
   "outputs": [],
   "source": [
    "import os\n",
    "import pandas as pd\n",
    "\n",
    "import collections\n",
    "\n",
    "import sys\n",
    "\n",
    "import torch\n",
    "import torch.optim as optim"
   ]
  },
  {
   "cell_type": "code",
   "execution_count": 3,
   "id": "c2e367f0",
   "metadata": {},
   "outputs": [],
   "source": [
    "# Set parameters\n",
    "EuroSat_Type = 'ALL'    "
   ]
  },
  {
   "cell_type": "code",
   "execution_count": 15,
   "id": "a8768cbd",
   "metadata": {},
   "outputs": [],
   "source": [
    "args = str(sys.argv)\n",
    "target_task = args[1]\n",
    "algorithm = args[2]\n",
    "algorithm = \"bandit\"\n"
   ]
  },
  {
   "cell_type": "code",
   "execution_count": 16,
   "id": "05d15f83",
   "metadata": {},
   "outputs": [],
   "source": [
    "target_task = 0 #\"Moldova\"\n",
    "target_size = 320"
   ]
  },
  {
   "cell_type": "code",
   "execution_count": 17,
   "id": "27645bfe",
   "metadata": {},
   "outputs": [],
   "source": [
    "from pathlib import Path\n",
    "output_path = Path(\"derived_data\")\n",
    "output_path.mkdir(parents = True, exist_ok = True)"
   ]
  },
  {
   "cell_type": "code",
   "execution_count": 18,
   "id": "1f9043dc",
   "metadata": {},
   "outputs": [],
   "source": [
    "if EuroSat_Type == 'RGB':\n",
    "  data_folder = '/content/sample_data/'\n",
    "  #root = os.path.join(data_folder, '2750/')\n",
    "  root = '2750/'\n",
    "  download_ON = os.path.exists(root)\n",
    "\n",
    "  if not download_ON:\n",
    "    # This can be long...\n",
    "    #os.chdir(data_folder)\n",
    "    os.system('wget http://madm.dfki.de/files/sentinel/EuroSAT.zip') #Just RGB Bands\n",
    "    !unzip EuroSAT.zip\n",
    "    download_ON = True\n",
    "elif EuroSat_Type == 'ALL':\n",
    "    root = 'ds/images/remote_sensing/otherDatasets/sentinel_2/tif/'\n",
    "    download_ON = os.path.exists(root)\n",
    "    if not download_ON:\n",
    "      os.system('wget http://madm.dfki.de/files/sentinel/EuroSATallBands.zip') #All bands\n",
    "      !unzip EuroSATallBands.zip\n",
    "      download_ON = True"
   ]
  },
  {
   "cell_type": "code",
   "execution_count": 19,
   "id": "98a5f1a6",
   "metadata": {},
   "outputs": [],
   "source": [
    "geo_df = pd.read_csv(\"metadata_clustered10.csv\")"
   ]
  },
  {
   "cell_type": "code",
   "execution_count": 20,
   "id": "55ad5e07",
   "metadata": {},
   "outputs": [],
   "source": [
    "data = torchvision.datasets.DatasetFolder(root=root,loader = iloader, transform = None, extensions = 'tif')\n",
    "labels = [v[1] for (i, v) in enumerate(data)]"
   ]
  },
  {
   "cell_type": "code",
   "execution_count": 27,
   "id": "6d695275",
   "metadata": {},
   "outputs": [],
   "source": [
    "input_data = prepare_input_data(geo_df, target_task, group_by = \"cluster\", \n",
    "                                labels = labels,\n",
    "                               target_size = target_size,\n",
    "                               val_size = 320, test_size = 320)"
   ]
  },
  {
   "cell_type": "code",
   "execution_count": 28,
   "id": "84587842",
   "metadata": {},
   "outputs": [
    {
     "name": "stdout",
     "output_type": "stream",
     "text": [
      "dict_values([48, 62, 40, 70, 100])\n",
      "dict_values([39, 83, 81, 65, 52])\n",
      "dict_values([44, 94, 36, 89, 57])\n",
      "dict_values([2305, 1742, 2077, 2086, 2647])\n",
      "dict_values([1741, 2069, 2084, 2647, 2305])\n"
     ]
    }
   ],
   "source": [
    "for indices in input_data[\"idx_train\"], input_data[\"idx_val\"], input_data[\"idx_test\"], input_data[\"idx_source\"], input_data[\"source_dict\"][\"id\"]:\n",
    "    current_labels = [data.samples[i][1] for i in indices]\n",
    "    print(collections.Counter(current_labels).values())"
   ]
  },
  {
   "cell_type": "code",
   "execution_count": 22,
   "id": "c51c7af1",
   "metadata": {},
   "outputs": [],
   "source": [
    "np.random.seed(0)\n",
    "torch.cuda.manual_seed(0)\n",
    "random.seed(0)"
   ]
  },
  {
   "cell_type": "code",
   "execution_count": 23,
   "id": "db5ad7ab",
   "metadata": {},
   "outputs": [],
   "source": [
    "# prepare data ---\n",
    "\n",
    "target_val_loader =  torch.utils.data.DataLoader(torch.utils.data.Subset(data, input_data[\"idx_val\"]), \n",
    "                                              batch_size = 16, shuffle = True, num_workers = 0)\n",
    "target_train_loader =  torch.utils.data.DataLoader(torch.utils.data.Subset(data, input_data[\"idx_train\"]), \n",
    "                                                  batch_size = 16, shuffle = True, num_workers = 0)\n",
    "target_test_loader =  torch.utils.data.DataLoader(torch.utils.data.Subset(data, input_data[\"idx_test\"]), \n",
    "                                                  batch_size = 16, shuffle = True, num_workers = 0)\n",
    "\n",
    "\n",
    "\n",
    "# initialize hyperparameters ---\n",
    "\n",
    "bandit_selects = [None]\n",
    "alpha = dict.fromkeys(input_data[\"source_task\"], [1])\n",
    "beta = dict.fromkeys(input_data[\"source_task\"], [1])\n",
    "pi = dict.fromkeys(input_data[\"source_task\"], [0])\n"
   ]
  },
  {
   "cell_type": "code",
   "execution_count": 24,
   "id": "cc04a539",
   "metadata": {
    "scrolled": true
   },
   "outputs": [
    {
     "name": "stderr",
     "output_type": "stream",
     "text": [
      "/Users/miaoxinran/Desktop/source_selection/experiment_eurosat/dataset.py:97: RuntimeWarning: overflow encountered in exp\n",
      "  return 1/(1+np.exp(-z))\n"
     ]
    },
    {
     "name": "stdout",
     "output_type": "stream",
     "text": [
      "Train (epoch 2/2) [9/10 (90%)]\tLoss: 1.007613\tAccuracy: 0.5\tLearning Rate:0.01\n",
      "At iteration  1 , source task is  7 , acc is  0.31875\n"
     ]
    }
   ],
   "source": [
    "net, bandit_selects, accs, alpha, beta, pi = bandit_selection(data, input_data, \n",
    "                                                            n_epochs = 2, n_it = 2,\n",
    "                                                            algorithm = algorithm, iter_samples = 160,\n",
    "                                                           output_path = output_path)"
   ]
  },
  {
   "cell_type": "code",
   "execution_count": 25,
   "id": "0032e81b",
   "metadata": {},
   "outputs": [],
   "source": [
    "test_performance, y_test, yhat_test = validation(net, target_test_loader)\n",
    "pd.DataFrame({\"test_acc\": test_performance,\n",
    "             \"algorithm\": algorithm,\n",
    "             \"target_size\": target_size,\n",
    "             \"target_task\": target_task},\n",
    "            index = [0]).to_csv(output_path / Path(str(target_task) + \"_\" + algorithm + \"_\" + str(target_size) + \"_test_acc.csv\"))\n",
    "test_dict = {\"y_test\": y_test,\n",
    "               \"yhat_test\": yhat_test}\n",
    "pd.DataFrame.from_dict(test_dict).to_csv(output_path / Path(str(target_task) + \"_\" + algorithm + \"_\" + str(target_size) + \"_test_pred.csv\"))"
   ]
  },
  {
   "cell_type": "code",
   "execution_count": null,
   "id": "705b36da",
   "metadata": {},
   "outputs": [],
   "source": []
  }
 ],
 "metadata": {
  "kernelspec": {
   "display_name": "Python 3",
   "language": "python",
   "name": "python3"
  },
  "language_info": {
   "codemirror_mode": {
    "name": "ipython",
    "version": 3
   },
   "file_extension": ".py",
   "mimetype": "text/x-python",
   "name": "python",
   "nbconvert_exporter": "python",
   "pygments_lexer": "ipython3",
   "version": "3.7.0"
  }
 },
 "nbformat": 4,
 "nbformat_minor": 5
}
