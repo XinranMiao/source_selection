{
 "cells": [
  {
   "cell_type": "code",
   "execution_count": 1,
   "id": "703deb09",
   "metadata": {},
   "outputs": [],
   "source": [
    "from simulate_module import *\n",
    "\n",
    "import pandas as pd\n",
    "from pathlib import Path\n",
    "import numpy as np\n",
    "np.random.seed(1234)\n",
    "import torch\n",
    "\n",
    "import copy"
   ]
  },
  {
   "cell_type": "markdown",
   "id": "5b9732ac",
   "metadata": {},
   "source": [
    "## Preparing data"
   ]
  },
  {
   "cell_type": "code",
   "execution_count": 6,
   "id": "b0ea43b5",
   "metadata": {},
   "outputs": [],
   "source": [
    "np.random.seed(1234)\n",
    "f, betas, zs = random_functions(15, 6,\n",
    "                                sigma_between = 10,\n",
    "                                sigma_within = .2)\n",
    "result = []\n",
    "for i, fi in enumerate(f):\n",
    "    x = np.random.uniform(0, 1, 100)\n",
    "    result.append({\n",
    "        \"task\": i,\n",
    "        \"x\": x,\n",
    "        \"f\": fi(x),\n",
    "        \"y\": fi(x) + np.random.normal(0, .1, len(x))\n",
    "    })\n",
    "# save data\n",
    "data_df = pd.concat([pd.DataFrame(r) for r in result])\n",
    "data_df = data_df.reset_index()\n",
    "data_dict = data_df.to_dict(orient = \"list\")\n",
    "\n",
    "input_data = prepare_input(data_dict,\n",
    "                                   target_task = 5,\n",
    "                                   target_test_size = .4,\n",
    "                                  preprocess = True)"
   ]
  },
  {
   "cell_type": "markdown",
   "id": "bc4f4af4",
   "metadata": {},
   "source": [
    "`nn` class"
   ]
  },
  {
   "cell_type": "code",
   "execution_count": 62,
   "id": "fc04a7b4",
   "metadata": {},
   "outputs": [],
   "source": [
    "class nn():\n",
    "    \"\"\"\n",
    "    Neural network\n",
    "    \"\"\"\n",
    "    def __init__(self, n_inputs = 1, n_outputs = 1, H = 200):\n",
    "        self.model = torch.nn.Sequential(\n",
    "            torch.nn.Linear(n_inputs, H),\n",
    "            torch.nn.ReLU(),\n",
    "            torch.nn.Linear(H, H),\n",
    "            torch.nn.ReLU(),\n",
    "            torch.nn.Linear(H, H),\n",
    "            torch.nn.ReLU(),\n",
    "            torch.nn.Linear(H, H),\n",
    "            torch.nn.ReLU(),\n",
    "            torch.nn.Linear(H, n_outputs),\n",
    "        )\n",
    "    def initialize(self, n_inputs = 1, n_outputs = 1, H = 200):\n",
    "        self.model = torch.nn.Sequential(\n",
    "            torch.nn.Linear(n_inputs, H),\n",
    "            torch.nn.ReLU(),\n",
    "            torch.nn.Linear(H, H),\n",
    "            torch.nn.ReLU(),\n",
    "            torch.nn.Linear(H, H),\n",
    "            torch.nn.ReLU(),\n",
    "            torch.nn.Linear(H, H),\n",
    "            torch.nn.ReLU(),\n",
    "            torch.nn.Linear(H, n_outputs),\n",
    "        )\n",
    "        return self\n",
    "    def prepare_data(self, x, y):\n",
    "        if type(x) != torch.Tensor:\n",
    "            if len(x.shape) > 1:\n",
    "                x = torch.tensor(x[:, 1:]).float()\n",
    "            else:\n",
    "                x = torch.tensor(x).float()\n",
    "        if type(y) != torch.Tensor:\n",
    "            y = torch.tensor(y).float()\n",
    "        return x, y\n",
    "    def fit(self, x_train, y_train, loss_fn = torch.nn.MSELoss(), n_epochs = 10, lr = 1e-4):\n",
    "        model = self.model\n",
    "        optimizer = torch.optim.Adam(self.model.parameters(), lr = lr)\n",
    "        for epoch in range(n_epochs):\n",
    "            # get loss\n",
    "            optimizer.zero_grad()\n",
    "            y_hat = self.model(x_train[:, np.newaxis])\n",
    "            loss = loss_fn(y_train, y_hat)\n",
    "\n",
    "            # update weights\n",
    "            loss.backward()\n",
    "            optimizer.step()\n",
    "        return self\n",
    "            \n",
    "        return model\n",
    "    def evaluate(self, x_test, y_test, loss_fn = torch.nn.MSELoss()):\n",
    "        with torch.no_grad():\n",
    "            y_hat = self.model(x_test[:, np.newaxis])\n",
    "            l = loss_fn(y_test, y_hat)\n",
    "        return l\n",
    "    def pred(self, x_new):\n",
    "        with torch.no_grad():\n",
    "            y_hat = self.model(x_new)\n",
    "        return y_hat\n",
    "    def combine_with_old(self, model_old, decay_rate = .5):\n",
    "        for i in range(len(model_old)):\n",
    "            if \"weight\" in dir(model_old[i]):\n",
    "                self.model[i].weight = torch.nn.Parameter(decay_rate * model_old[i].weight + (1 - decay_rate) * self.model[i].weight)\n",
    "                self.model[i].bias = torch.nn.Parameter(decay_rate * model_old[i].bias + (1 - decay_rate) * self.model[i].bias)\n",
    "    def save(self, path = \".\", x_new = None, y_new = None, para = True):\n",
    "        x_new, y_new = self.prepare_data(x_new, y_new)\n",
    "        path = Path(path)\n",
    "        path.mkdir(parents = True, exist_ok = True)\n",
    "        y_hat = self.pred(x_new)\n",
    "        if not x_new is None:\n",
    "            pd.DataFrame.from_dict({\"x\": [item[0] for item in x_new.tolist()], \n",
    "                        \"y\": y_new,\n",
    "                        \"y_hat\": [item[0] for item in y_hat.tolist()]\n",
    "                       }).to_csv(path / Path(\"fitted.csv\"))"
   ]
  },
  {
   "cell_type": "markdown",
   "id": "85f867d4",
   "metadata": {},
   "source": [
    "## Test `combine_with_old`"
   ]
  },
  {
   "cell_type": "code",
   "execution_count": 63,
   "id": "79aa2b50",
   "metadata": {},
   "outputs": [],
   "source": [
    "# two batches of data\n",
    "val_x, val_y = mod.prepare_data(input_data[\"X_target_val\"], input_data[\"y_target_val\"])\n",
    "train_x, train_y = mod.prepare_data(input_data[\"X_target_val\"], input_data[\"y_target_val\"])"
   ]
  },
  {
   "cell_type": "code",
   "execution_count": 41,
   "id": "23a7d958",
   "metadata": {},
   "outputs": [
    {
     "name": "stdout",
     "output_type": "stream",
     "text": [
      "tensor(0.0030, grad_fn=<SelectBackward>)\n"
     ]
    }
   ],
   "source": [
    "m1 = nn()\n",
    "m1.fit(val_x, val_y)\n",
    "\n",
    "print(m1.model[2].weight[2, 2])"
   ]
  },
  {
   "cell_type": "code",
   "execution_count": 42,
   "id": "07916aa7",
   "metadata": {},
   "outputs": [
    {
     "name": "stdout",
     "output_type": "stream",
     "text": [
      "tensor(0.0030, grad_fn=<SelectBackward>)\n"
     ]
    }
   ],
   "source": [
    "m2 = copy.deepcopy(m1)\n",
    "print(m2.model[2].weight[2, 2])"
   ]
  },
  {
   "cell_type": "code",
   "execution_count": 43,
   "id": "e5e30d8b",
   "metadata": {},
   "outputs": [
    {
     "name": "stdout",
     "output_type": "stream",
     "text": [
      "tensor(0.0020, grad_fn=<SelectBackward>)\n"
     ]
    }
   ],
   "source": [
    "m1.fit(train_x, train_y)\n",
    "print(m1.model[2].weight[2, 2])"
   ]
  },
  {
   "cell_type": "code",
   "execution_count": 44,
   "id": "46059a97",
   "metadata": {},
   "outputs": [
    {
     "name": "stdout",
     "output_type": "stream",
     "text": [
      "tensor(0.0025, grad_fn=<SelectBackward>)\n"
     ]
    }
   ],
   "source": [
    "m1.combine_with_old(m2.model, decay_rate = 0.5)\n",
    "print(m1.model[2].weight[2, 2])"
   ]
  },
  {
   "cell_type": "markdown",
   "id": "3c49a6fd",
   "metadata": {},
   "source": [
    "## Train model"
   ]
  },
  {
   "cell_type": "code",
   "execution_count": 64,
   "id": "60d83a5d",
   "metadata": {},
   "outputs": [],
   "source": [
    "model = nn(n_inputs = 1)\n",
    "n_it = 10\n",
    "batch_size = 64\n",
    "decay_rate = .5\n",
    "conservative = False\n",
    "loss_fn = torch.nn.MSELoss()"
   ]
  },
  {
   "cell_type": "code",
   "execution_count": 65,
   "id": "9d3ec96d",
   "metadata": {},
   "outputs": [],
   "source": [
    "working_path = Path(\"debug_nn_combine\")\n",
    "working_path.mkdir(exist_ok = True)"
   ]
  },
  {
   "cell_type": "code",
   "execution_count": 66,
   "id": "2c92abe9",
   "metadata": {},
   "outputs": [
    {
     "name": "stdout",
     "output_type": "stream",
     "text": [
      "0 , current =  0.021639107 , old =  0.0062913853\n",
      "1 , current =  0.04301337 , old =  0.021639107\n",
      "2 , current =  0.033790406 , old =  0.04301337\n",
      "3 , current =  0.012443873 , old =  0.033790406\n",
      "4 , current =  -0.024848742 , old =  0.012443873\n",
      "5 , current =  -0.00790301 , old =  -0.024848742\n",
      "6 , current =  -0.01955099 , old =  -0.00790301\n",
      "7 , current =  0.0025633778 , old =  -0.01955099\n",
      "8 , current =  0.0033883443 , old =  0.0025633778\n",
      "9 , current =  -0.029628009 , old =  0.0033883443\n"
     ]
    }
   ],
   "source": [
    "bandit_selects = [None]\n",
    "# initialize hyperparameters\n",
    "alpha = dict.fromkeys(input_data[\"source_task\"], [1])\n",
    "beta = dict.fromkeys(input_data[\"source_task\"], [1])\n",
    "pi = dict.fromkeys(input_data[\"source_task\"], [0])\n",
    "\n",
    "# initialize model from target training data\n",
    "mod = nn()\n",
    "val_x, val_y = mod.prepare_data(input_data[\"X_target_val\"], input_data[\"y_target_val\"])\n",
    "X_current, y_current = mod.prepare_data(input_data[\"X_target_train\"], input_data[\"y_target_train\"])\n",
    "mod.fit( X_current, y_current, n_epochs = 100)\n",
    "\n",
    "l = mod.evaluate(val_x, val_y)\n",
    "losses = [l]\n",
    "\n",
    "model_old = copy.deepcopy(mod.model) # *********************\n",
    "\n",
    "for t in range(n_it):\n",
    "    \n",
    "    # select bandit\n",
    "    bandit_current, pi = get_bandit(input_data, alpha, beta,t, pi)\n",
    "    bandit_selects.append(bandit_current)\n",
    "    \n",
    "    # set training data at this iteration\n",
    "    X_current, y_current, _ = subset_data(input_data[\"source_dict\"], \n",
    "                               key_value = bandit_current,\n",
    "                               key_name = \"task\", test_size = 0)\n",
    "    batch_id = random.choices(list(range(0, len(y_current))), k = batch_size)\n",
    "    X_current, y_current = X_current[batch_id, :], y_current[batch_id]\n",
    "    X_current = np.concatenate((X_current, input_data[\"X_target_val\"]), axis = 0)\n",
    "    y_current = np.concatenate((y_current, input_data[\"y_target_val\"]), axis = 0)\n",
    "    X_current, y_current = mod.prepare_data(X_current, y_current)\n",
    "    \n",
    "    # train model\n",
    "    #mod = model.initialize(n_inputs = 1)\n",
    "    mod = nn()\n",
    "    mod.fit(X_current, y_current, loss_fn = loss_fn, n_epochs = 200)\n",
    "    \n",
    "    \n",
    "    \n",
    "    # combine parameters with previous model\n",
    "    mod.combine_with_old(model_old, decay_rate = .5)\n",
    "    print(t, \", current = \", mod.model[4].weight[0,0].detach().numpy(),\n",
    "          \", old = \", model_old[4].weight[0,0].detach().numpy())\n",
    "    \n",
    "    model_old = copy.deepcopy(mod.model)\n",
    "    \n",
    "    \n",
    "    # evaluate model\n",
    "    l = mod.evaluate(val_x, val_y, loss_fn = loss_fn)\n",
    "    losses += [l]\n",
    "    \n",
    "    \n",
    "    model_old = copy.deepcopy(mod.model)\n",
    "    \n",
    "    # update bandit parameters\n",
    "    if conservative:\n",
    "        thres = 100000\n",
    "    else:\n",
    "        thres = avg_loss(bandit_selects, losses, bandit_current)\n",
    "    alpha, beta = update_hyper_para(alpha, beta, t, losses,\n",
    "                                    bandit_current,\n",
    "                                    thres = thres\n",
    "                                   )\n",
    "    \n",
    "    mod.save(path = working_path.joinpath(\"current\" + str(t)), x_new = X_current, y_new = y_current, para = True)\n",
    "    mod.save(path = working_path.joinpath(str(t)), x_new = val_x, y_new = val_y, para = True)"
   ]
  },
  {
   "cell_type": "code",
   "execution_count": null,
   "id": "b409c62f",
   "metadata": {},
   "outputs": [],
   "source": []
  }
 ],
 "metadata": {
  "kernelspec": {
   "display_name": "Python 3",
   "language": "python",
   "name": "python3"
  },
  "language_info": {
   "codemirror_mode": {
    "name": "ipython",
    "version": 3
   },
   "file_extension": ".py",
   "mimetype": "text/x-python",
   "name": "python",
   "nbconvert_exporter": "python",
   "pygments_lexer": "ipython3",
   "version": "3.7.0"
  }
 },
 "nbformat": 4,
 "nbformat_minor": 5
}
