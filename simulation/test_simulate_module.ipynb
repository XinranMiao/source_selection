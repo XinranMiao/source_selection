{
 "cells": [
  {
   "cell_type": "markdown",
   "id": "19862d90",
   "metadata": {},
   "source": [
    "Testing experiments"
   ]
  },
  {
   "cell_type": "code",
   "execution_count": 3,
   "id": "9af6c18d",
   "metadata": {},
   "outputs": [],
   "source": [
    "from simulate_module import *\n",
    "\n",
    "import pandas as pd\n",
    "from pathlib import Path\n",
    "import numpy as np\n",
    "np.random.seed(1234)\n"
   ]
  },
  {
   "cell_type": "code",
   "execution_count": 4,
   "id": "4d27a142",
   "metadata": {},
   "outputs": [],
   "source": [
    "sigma_setting = {\"high_bw\": [10, .2],\n",
    "                \"medium_bw\": [1, .2],\n",
    "                \"low_bw\": [.5, .2]}"
   ]
  },
  {
   "cell_type": "code",
   "execution_count": 11,
   "id": "0fb08e77",
   "metadata": {},
   "outputs": [],
   "source": [
    "args = {\n",
    "    \"n_tasks\": 15,\n",
    "    \"conservative\": False,\n",
    "    \"target_test_size\": 0.4,\n",
    "    \"model_type\": \"lm\",\n",
    "    \"base_output_dir\": \"test\"\n",
    "}"
   ]
  },
  {
   "cell_type": "code",
   "execution_count": 12,
   "id": "a1d26d08",
   "metadata": {},
   "outputs": [],
   "source": [
    "if args[\"model_type\"] == \"lm\":\n",
    "    model_class = lm()\n",
    "    loss_fn = mse\n",
    "elif args[\"model_type\"] == \"nn\":\n",
    "    model_class = nn()\n",
    "    loss_fn =  torch.nn.MSELoss()"
   ]
  },
  {
   "cell_type": "code",
   "execution_count": 16,
   "id": "0f980325",
   "metadata": {},
   "outputs": [],
   "source": [
    "s = \"high_bw\"\n",
    "    # set directory\n",
    "if args[\"conservative\"]:\n",
    "    data_path = Path(args[\"base_output_dir\"]) / Path(\"model_\" + args[\"model_type\"] + \"/conservative_derived_data\")\n",
    "else:\n",
    "    data_path = Path(args[\"base_output_dir\"]) / Path(\"model_\" + args[\"model_type\"] + \"/derived_data\")\n",
    "data_path = Path(data_path)\n",
    "working_path = data_path / s\n",
    "working_path.mkdir(parents = True, exist_ok = True)\n",
    "# generate data ------------------------------------------------\n",
    "np.random.seed(1234)\n",
    "f, betas, zs = random_functions(args[\"n_tasks\"], 6,\n",
    "                                sigma_between = sigma_setting[s][0],\n",
    "                                sigma_within = sigma_setting[s][-1])\n",
    "result = []\n",
    "for i, fi in enumerate(f):\n",
    "    x = np.random.uniform(0, 1, 100)\n",
    "    result.append({\n",
    "        \"task\": i,\n",
    "        \"x\": x,\n",
    "        \"f\": fi(x),\n",
    "        \"y\": fi(x) + np.random.normal(0, .1, len(x))\n",
    "    })\n",
    "# save data\n",
    "data_df = pd.concat([pd.DataFrame(r) for r in result])\n",
    "data_df.to_csv(working_path / \"tasks.csv\", index = False)\n",
    "data_df = data_df.reset_index()\n",
    "betas_df = np.hstack([np.arange(args[\"n_tasks\"])[:, np.newaxis], np.array(zs)[:, np.newaxis], betas])\n",
    "betas_df = pd.DataFrame(betas_df)\n",
    "betas_df.columns = [\"task\", \"cluster\"] + [f\"beta{i}\" for i in range(betas.shape[1])]\n",
    "betas_df.to_csv(working_path / \"betas.csv\", index = False)\n",
    "data_dict = data_df.to_dict(orient = \"list\")"
   ]
  },
  {
   "cell_type": "code",
   "execution_count": 18,
   "id": "90184ea9",
   "metadata": {},
   "outputs": [
    {
     "name": "stderr",
     "output_type": "stream",
     "text": [
      "/Users/miaoxinran/Documents/projects/source_selection22/source_selection/simulation/simulate_module.py:84: RuntimeWarning: invalid value encountered in true_divide\n",
      "  processed = (raw - raw.min(axis = 0)) / (raw.max(axis = 0) - raw.min(axis = 0))\n"
     ]
    }
   ],
   "source": [
    "input_data = prepare_input(data_dict,\n",
    "                               target_task = 5,\n",
    "                               target_test_size = args[\"target_test_size\"],\n",
    "                              preprocess = True)\n",
    "pd.DataFrame.from_dict(input_data[\"data_dict\"]).to_csv(working_path / \"tasks_processed.csv\",\n",
    "                                                           index = False)"
   ]
  },
  {
   "cell_type": "code",
   "execution_count": 28,
   "id": "0a793f48",
   "metadata": {},
   "outputs": [],
   "source": [
    "model = lm()\n",
    "n_it = 100\n",
    "batch_size = 8\n",
    "decay_rate = .5\n",
    "conservative = False"
   ]
  },
  {
   "cell_type": "code",
   "execution_count": 30,
   "id": "726d2230",
   "metadata": {},
   "outputs": [],
   "source": [
    "bandit_selects = [None]\n",
    "# initialize hyperparameters\n",
    "alpha = dict.fromkeys(input_data[\"source_task\"], [1])\n",
    "beta = dict.fromkeys(input_data[\"source_task\"], [1])\n",
    "pi = dict.fromkeys(input_data[\"source_task\"], [0])\n",
    "\n",
    "mod = model\n",
    "val_x, val_y = mod.prepare_data(input_data[\"X_target_val\"], input_data[\"y_target_val\"])\n",
    "\n",
    "# initialize model from target training data\n",
    "X_current, y_current = mod.prepare_data(input_data[\"X_target_train\"], input_data[\"y_target_train\"])\n",
    "mod.fit( X_current, y_current)\n",
    "l = mod.evaluate(val_x, val_y, loss_fn = loss_fn)\n",
    "losses = [l]\n",
    "model_old = mod.model\n",
    "\n",
    "for t in range(n_it):\n",
    "    mod = model\n",
    "    # select bandit\n",
    "    bandit_current, pi = get_bandit(input_data, alpha, beta,t, pi)\n",
    "    bandit_selects.append(bandit_current)\n",
    "    # set training data at this iteration\n",
    "    X_current, y_current, _ = subset_data(input_data[\"source_dict\"], \n",
    "                               key_value = bandit_current,\n",
    "                               key_name = \"task\", test_size = 0)\n",
    "    batch_id = random.choices(list(range(0, len(y_current))), k = batch_size)\n",
    "    X_current, y_current = X_current[batch_id, :], y_current[batch_id]\n",
    "\n",
    "    X_current = np.concatenate((X_current, input_data[\"X_target_val\"]), axis = 0)\n",
    "    y_current = np.concatenate((y_current, input_data[\"y_target_val\"]), axis = 0)\n",
    "    X_current, y_current = mod.prepare_data(X_current, y_current)\n",
    "    # train model\n",
    "    #mod_train = model.fit(X_current, y_current)\n",
    "    mod.fit(X_current, y_current, loss_fn = loss_fn)\n",
    "    # combine parameters with previous model\n",
    "    mod.combine_with_old(model_old, decay_rate = decay_rate)\n",
    "    # evaluate model\n",
    "    l = mod.evaluate(val_x, val_y, loss_fn = loss_fn)\n",
    "    losses += [l]\n",
    "    model_old = mod.model\n",
    "    # update bandit parameters\n",
    "    if conservative:\n",
    "        thres = 100000\n",
    "    else:\n",
    "        thres = avg_loss(bandit_selects, losses, bandit_current)\n",
    "    alpha, beta = update_hyper_para(alpha, beta, t, losses,\n",
    "                                    bandit_current,\n",
    "                                    thres = thres\n",
    "                                   )\n",
    "# baseline   \n",
    "bl = baseline(input_data = input_data, alpha = alpha, beta = beta,\n",
    "              N = 10, model = model, loss_fn = loss_fn)\n"
   ]
  },
  {
   "cell_type": "code",
   "execution_count": 31,
   "id": "da3e36a1",
   "metadata": {},
   "outputs": [],
   "source": [
    "weight_dict = {t: alpha[t][-1] / (alpha[t][-1] + beta[t][-1]) for t in input_data[\"source_task\"]}\n",
    "s = sum(weight_dict.values())\n",
    "weight_dict = {t: weight_dict[t] / s for t in weight_dict.keys()}\n"
   ]
  },
  {
   "cell_type": "code",
   "execution_count": 32,
   "id": "119e1785",
   "metadata": {},
   "outputs": [
    {
     "data": {
      "text/plain": [
       "{0: 0.005077891224315845,\n",
       " 1: 0.17095567121863342,\n",
       " 2: 0.005077891224315845,\n",
       " 3: 0.005077891224315845,\n",
       " 4: 0.005077891224315845,\n",
       " 6: 0.10257340273118007,\n",
       " 7: 0.005077891224315845,\n",
       " 8: 0.36328080133959606,\n",
       " 9: 0.005077891224315845,\n",
       " 10: 0.005077891224315845,\n",
       " 11: 0.005077891224315845,\n",
       " 12: 0.17095567121863342,\n",
       " 13: 0.005077891224315845,\n",
       " 14: 0.14653343247311437}"
      ]
     },
     "execution_count": 32,
     "metadata": {},
     "output_type": "execute_result"
    }
   ],
   "source": [
    "weight_dict"
   ]
  }
 ],
 "metadata": {
  "kernelspec": {
   "display_name": "Python 3",
   "language": "python",
   "name": "python3"
  },
  "language_info": {
   "codemirror_mode": {
    "name": "ipython",
    "version": 3
   },
   "file_extension": ".py",
   "mimetype": "text/x-python",
   "name": "python",
   "nbconvert_exporter": "python",
   "pygments_lexer": "ipython3",
   "version": "3.7.0"
  }
 },
 "nbformat": 4,
 "nbformat_minor": 5
}
