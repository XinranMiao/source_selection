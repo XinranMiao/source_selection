{
 "cells": [
  {
   "cell_type": "code",
   "execution_count": 1,
   "id": "703deb09",
   "metadata": {},
   "outputs": [],
   "source": [
    "from simulate_module import *\n",
    "\n",
    "import pandas as pd\n",
    "from pathlib import Path\n",
    "import numpy as np\n",
    "np.random.seed(1234)\n",
    "import torch\n",
    "\n",
    "import copy"
   ]
  },
  {
   "cell_type": "markdown",
   "id": "5b9732ac",
   "metadata": {},
   "source": [
    "## Preparing data"
   ]
  },
  {
   "cell_type": "code",
   "execution_count": 2,
   "id": "b0ea43b5",
   "metadata": {},
   "outputs": [],
   "source": [
    "np.random.seed(1234)\n",
    "f, betas, zs = random_functions(15, 6,\n",
    "                                sigma_between = 10,\n",
    "                                sigma_within = .2)\n",
    "result = []\n",
    "for i, fi in enumerate(f):\n",
    "    x = np.random.uniform(0, 1, 100)\n",
    "    result.append({\n",
    "        \"task\": i,\n",
    "        \"x\": x,\n",
    "        \"f\": fi(x),\n",
    "        \"y\": fi(x) + np.random.normal(0, .1, len(x))\n",
    "    })\n",
    "# save data\n",
    "data_df = pd.concat([pd.DataFrame(r) for r in result])\n",
    "data_df = data_df.reset_index()\n",
    "data_dict = data_df.to_dict(orient = \"list\")\n",
    "\n",
    "input_data = prepare_input(data_dict,\n",
    "                                   target_task = 0,\n",
    "                                   target_test_size = .4,\n",
    "                                  preprocess = True)"
   ]
  },
  {
   "cell_type": "markdown",
   "id": "bc4f4af4",
   "metadata": {},
   "source": [
    "`nn` class"
   ]
  },
  {
   "cell_type": "markdown",
   "id": "3c49a6fd",
   "metadata": {},
   "source": [
    "## Train model"
   ]
  },
  {
   "cell_type": "code",
   "execution_count": 9,
   "id": "60d83a5d",
   "metadata": {},
   "outputs": [],
   "source": [
    "model = nn(n_inputs = 1)\n",
    "n_it = 40\n",
    "batch_size = 8\n",
    "decay_rate = .5\n",
    "conservative = False\n",
    "loss_fn = torch.nn.MSELoss()\n",
    "lr = 5e-4\n",
    "n_epochs = 10"
   ]
  },
  {
   "cell_type": "code",
   "execution_count": 10,
   "id": "9d3ec96d",
   "metadata": {},
   "outputs": [],
   "source": [
    "working_path = Path(\"debug_nn_combine\")\n",
    "working_path.mkdir(exist_ok = True)"
   ]
  },
  {
   "cell_type": "markdown",
   "id": "737f77ba",
   "metadata": {},
   "source": [
    "Test bandit selection function"
   ]
  },
  {
   "cell_type": "code",
   "execution_count": 15,
   "id": "6f0ce530",
   "metadata": {},
   "outputs": [],
   "source": [
    "def bandit_source_train(input_data, model, batch_size, decay_rate, n_it, loss_fn, conservative = False):\n",
    "    bandit_selects = [None]\n",
    "    # initialize hyperparameters\n",
    "    alpha = dict.fromkeys(input_data[\"source_task\"], [1])\n",
    "    beta = dict.fromkeys(input_data[\"source_task\"], [1])\n",
    "    pi = dict.fromkeys(input_data[\"source_task\"], [0])\n",
    "    \n",
    "    mod = model\n",
    "    val_x, val_y = mod.prepare_data(input_data[\"X_target_val\"], input_data[\"y_target_val\"])\n",
    "\n",
    "    # initialize model from target training data\n",
    "    X_current, y_current = mod.prepare_data(input_data[\"X_target_train\"], input_data[\"y_target_train\"])\n",
    "    mod.fit( X_current, y_current)\n",
    "    l = mod.evaluate(val_x, val_y, loss_fn = loss_fn)\n",
    "    losses = [l]\n",
    "    model_old = mod.model\n",
    "    \n",
    "    for t in range(n_it):\n",
    "        mod = model\n",
    "\n",
    "        # select bandit\n",
    "        bandit_current, pi = get_bandit(input_data, alpha, beta,t, pi)\n",
    "        bandit_selects.append(bandit_current)\n",
    "\n",
    "        # set training data at this iteration\n",
    "        X_current, y_current, _ = subset_data(input_data[\"source_dict\"], \n",
    "                                   key_value = bandit_current,\n",
    "                                   key_name = \"task\", test_size = 0)\n",
    "        batch_id = random.choices(list(range(0, len(y_current))), k = batch_size)\n",
    "        X_current, y_current = X_current[batch_id, :], y_current[batch_id]\n",
    "\n",
    "        X_current = np.concatenate((X_current, input_data[\"X_target_val\"]), axis = 0)\n",
    "        y_current = np.concatenate((y_current, input_data[\"y_target_val\"]), axis = 0)\n",
    "        X_current, y_current = mod.prepare_data(X_current, y_current)\n",
    "\n",
    "        # train model\n",
    "        mod.fit(X_current, y_current, loss_fn = loss_fn)\n",
    "\n",
    "        # combine parameters with previous model\n",
    "        mod.combine_with_old(model_old, decay_rate = decay_rate)\n",
    "\n",
    "        # evaluate model\n",
    "        l = mod.evaluate(val_x, val_y, loss_fn = loss_fn)\n",
    "        losses += [l]\n",
    "        model_old = mod.model\n",
    "        \n",
    "        # update bandit parameters\n",
    "        if conservative:\n",
    "            thres = 100000\n",
    "        else:\n",
    "            thres = avg_loss(bandit_selects, losses, bandit_current)\n",
    "        alpha, beta = update_hyper_para(alpha, beta, t, losses,\n",
    "                                        bandit_current,\n",
    "                                        thres = thres\n",
    "                                       )\n",
    "    # baseline   \n",
    "    #bl = baseline(input_data = input_data, alpha = alpha, beta = beta,\n",
    "                  #N = 10, model = model, loss_fn = loss_fn)\n",
    "    bl = None\n",
    "    return losses, alpha, beta, bandit_selects, pi, bl"
   ]
  },
  {
   "cell_type": "code",
   "execution_count": 16,
   "id": "56adbac2",
   "metadata": {},
   "outputs": [],
   "source": [
    "losses, alpha, beta, bandit_selects, pi, bl =bandit_source_train(input_data = input_data, model = nn(),\n",
    "                     batch_size = 8,\n",
    "                     decay_rate = .5,\n",
    "                     n_it = 100,\n",
    "                     loss_fn =  loss_fn,\n",
    "                     conservative = False)\n",
    "        # save outputs"
   ]
  },
  {
   "cell_type": "code",
   "execution_count": 17,
   "id": "be2e3efe",
   "metadata": {},
   "outputs": [],
   "source": [
    "save_files(working_path.joinpath(\"embed\" ), alpha, beta, losses, bandit_selects, pi, bl)"
   ]
  },
  {
   "cell_type": "markdown",
   "id": "5884e700",
   "metadata": {},
   "source": [
    "Bandit selection debugging"
   ]
  },
  {
   "cell_type": "code",
   "execution_count": 11,
   "id": "2c92abe9",
   "metadata": {
    "scrolled": true
   },
   "outputs": [
    {
     "name": "stdout",
     "output_type": "stream",
     "text": [
      "0 , current =  -0.038145825 , old =  0.052744936\n",
      "1 , current =  -0.060185358 , old =  -0.038145825\n",
      "2 , current =  -0.023676801 , old =  -0.060185358\n",
      "3 , current =  0.06273592 , old =  -0.023676801\n",
      "4 , current =  -0.00058138074 , old =  0.06273592\n",
      "5 , current =  -0.009651146 , old =  -0.00058138074\n",
      "6 , current =  0.0008422697 , old =  -0.009651146\n",
      "7 , current =  0.042709805 , old =  0.0008422697\n",
      "8 , current =  0.01205074 , old =  0.042709805\n",
      "9 , current =  -0.06043932 , old =  0.01205074\n",
      "10 , current =  0.025808452 , old =  -0.06043932\n",
      "11 , current =  -0.06264673 , old =  0.025808452\n",
      "12 , current =  -0.041657157 , old =  -0.06264673\n",
      "13 , current =  -0.011740375 , old =  -0.041657157\n",
      "14 , current =  -0.06305156 , old =  -0.011740375\n",
      "15 , current =  -0.014758266 , old =  -0.06305156\n",
      "16 , current =  0.055315495 , old =  -0.014758266\n",
      "17 , current =  -0.057178214 , old =  0.055315495\n",
      "18 , current =  0.038460642 , old =  -0.057178214\n",
      "19 , current =  0.010623187 , old =  0.038460642\n",
      "20 , current =  0.028361484 , old =  0.010623187\n",
      "21 , current =  -0.041653566 , old =  0.028361484\n",
      "22 , current =  -0.018017165 , old =  -0.041653566\n",
      "23 , current =  -9.949975e-05 , old =  -0.018017165\n",
      "24 , current =  0.019245923 , old =  -9.949975e-05\n",
      "25 , current =  0.021209352 , old =  0.019245923\n",
      "26 , current =  -0.04702567 , old =  0.021209352\n",
      "27 , current =  0.048976123 , old =  -0.04702567\n",
      "28 , current =  -0.038880605 , old =  0.048976123\n",
      "29 , current =  0.05135053 , old =  -0.038880605\n",
      "30 , current =  0.025874924 , old =  0.05135053\n",
      "31 , current =  0.013449881 , old =  0.025874924\n",
      "32 , current =  -0.018373322 , old =  0.013449881\n",
      "33 , current =  -0.049314417 , old =  -0.018373322\n",
      "34 , current =  -0.01814391 , old =  -0.049314417\n",
      "35 , current =  0.06664083 , old =  -0.01814391\n",
      "36 , current =  0.048040185 , old =  0.06664083\n",
      "37 , current =  0.053939708 , old =  0.048040185\n",
      "38 , current =  -0.050502118 , old =  0.053939708\n",
      "39 , current =  -0.0032542497 , old =  -0.050502118\n"
     ]
    }
   ],
   "source": [
    "bandit_selects = [None]\n",
    "# initialize hyperparameters\n",
    "alpha = dict.fromkeys(input_data[\"source_task\"], [1])\n",
    "beta = dict.fromkeys(input_data[\"source_task\"], [1])\n",
    "pi = dict.fromkeys(input_data[\"source_task\"], [0])\n",
    "\n",
    "# initialize model from target training data\n",
    "mod = nn()\n",
    "val_x, val_y = mod.prepare_data(input_data[\"X_target_val\"], input_data[\"y_target_val\"])\n",
    "X_current, y_current = mod.prepare_data(input_data[\"X_target_train\"], input_data[\"y_target_train\"])\n",
    "mod.fit( X_current, y_current, n_epochs = n_epochs, lr = lr)\n",
    "\n",
    "l = mod.evaluate(val_x, val_y)\n",
    "losses = [l]\n",
    "\n",
    "model_old = copy.deepcopy(mod.model) # *********************\n",
    "\n",
    "for t in range(n_it):\n",
    "    \n",
    "    # select bandit\n",
    "    bandit_current, pi = get_bandit(input_data, alpha, beta,t, pi)\n",
    "    bandit_selects.append(bandit_current)\n",
    "    \n",
    "    # set training data at this iteration\n",
    "    X_current, y_current, _ = subset_data(input_data[\"source_dict\"], \n",
    "                               key_value = bandit_current,\n",
    "                               key_name = \"task\", test_size = 0)\n",
    "    batch_id = random.choices(list(range(0, len(y_current))), k = batch_size)\n",
    "    X_current, y_current = X_current[batch_id, :], y_current[batch_id]\n",
    "    X_current = np.concatenate((X_current, input_data[\"X_target_val\"]), axis = 0)\n",
    "    y_current = np.concatenate((y_current, input_data[\"y_target_val\"]), axis = 0)\n",
    "    X_current, y_current = mod.prepare_data(X_current, y_current)\n",
    "    \n",
    "    # train model\n",
    "    #mod = model.initialize(n_inputs = 1)\n",
    "    mod = nn()\n",
    "    mod.fit(X_current, y_current, loss_fn = loss_fn, n_epochs = n_epochs, lr = lr)\n",
    "    \n",
    "    \n",
    "    \n",
    "    # combine parameters with previous model\n",
    "    mod.combine_with_old(model_old, decay_rate = .9)\n",
    "    print(t, \", current = \", mod.model[4].weight[0,0].detach().numpy(),\n",
    "          \", old = \", model_old[4].weight[0,0].detach().numpy())\n",
    "    \n",
    "    model_old = copy.deepcopy(mod.model)\n",
    "    \n",
    "    \n",
    "    # evaluate model\n",
    "    l = mod.evaluate(val_x, val_y, loss_fn = loss_fn)\n",
    "    losses += [l]\n",
    "    \n",
    "    \n",
    "    model_old = copy.deepcopy(mod.model)\n",
    "    \n",
    "    # update bandit parameters\n",
    "    if conservative:\n",
    "        thres = 100000\n",
    "    else:\n",
    "        thres = avg_loss(bandit_selects, losses, bandit_current)\n",
    "    alpha, beta = update_hyper_para(alpha, beta, t, losses,\n",
    "                                    bandit_current,\n",
    "                                    thres = thres\n",
    "                                   )\n",
    "    \n",
    "    mod.save(path = working_path.joinpath(\"current\" + str(t)), x_new = X_current, y_new = y_current, para = True)\n",
    "    mod.save(path = working_path.joinpath(str(t)), x_new = val_x, y_new = val_y, para = True)"
   ]
  },
  {
   "cell_type": "code",
   "execution_count": 12,
   "id": "395f11bd",
   "metadata": {},
   "outputs": [],
   "source": [
    "save_files(working_path, alpha, beta, losses, bandit_selects, pi, None)"
   ]
  },
  {
   "cell_type": "code",
   "execution_count": null,
   "id": "4af3954f",
   "metadata": {},
   "outputs": [],
   "source": []
  }
 ],
 "metadata": {
  "kernelspec": {
   "display_name": "Python 3",
   "language": "python",
   "name": "python3"
  },
  "language_info": {
   "codemirror_mode": {
    "name": "ipython",
    "version": 3
   },
   "file_extension": ".py",
   "mimetype": "text/x-python",
   "name": "python",
   "nbconvert_exporter": "python",
   "pygments_lexer": "ipython3",
   "version": "3.7.0"
  }
 },
 "nbformat": 4,
 "nbformat_minor": 5
}
