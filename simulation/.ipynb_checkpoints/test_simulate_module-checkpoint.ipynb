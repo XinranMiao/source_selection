{
 "cells": [
  {
   "cell_type": "markdown",
   "id": "19862d90",
   "metadata": {},
   "source": [
    "Aimed at testing functions in `simulate_module.py`"
   ]
  },
  {
   "cell_type": "code",
   "execution_count": 1,
   "id": "9af6c18d",
   "metadata": {},
   "outputs": [],
   "source": [
    "from simulate_module import *\n",
    "\n",
    "import pandas as pd\n",
    "from pathlib import Path\n",
    "import numpy as np\n",
    "np.random.seed(1234)\n"
   ]
  },
  {
   "cell_type": "code",
   "execution_count": 2,
   "id": "0005083c",
   "metadata": {},
   "outputs": [],
   "source": [
    "n_tasks = 15\n",
    "np.random.seed(1234)\n",
    "f, betas, zs = random_functions(n_tasks, 6, 1, .1)\n",
    "result = []\n",
    "\n",
    "for i, fi in enumerate(f):\n",
    "    x = np.random.uniform(0, 1, 100)\n",
    "    result.append({\n",
    "        \"task\": i,\n",
    "        \"x\": x,\n",
    "        \"f\": fi(x),\n",
    "        \"y\": fi(x) + np.random.normal(0, .1, len(x))\n",
    "    })\n",
    "\n",
    "data_df = pd.concat([pd.DataFrame(r) for r in result])\n",
    "data_df = data_df.reset_index()\n",
    "\n",
    "\n",
    "betas_df = np.hstack([np.arange(n_tasks)[:, np.newaxis], np.array(zs)[:, np.newaxis], betas])\n",
    "betas_df = pd.DataFrame(betas_df)\n",
    "betas_df.columns = [\"task\", \"cluster\"] + [f\"beta{i}\" for i in range(betas.shape[1])]\n",
    "# relationship between tasks (bandits) and their original clusters\n",
    "d = dict.fromkeys(betas_df.cluster, [])\n",
    "for k, v in zip(betas_df.cluster, betas_df.task):\n",
    "    d[k] = d[k] +[v]\n",
    "\n",
    "data_dict = data_df.to_dict()\n",
    "# add key \"cluster\" to `data_dict`\n",
    "data_dict[\"cluster\"] = []\n",
    "\n",
    "for task in data_dict[\"task\"].values():\n",
    "    cluster = get_key(d, task)\n",
    "    if(cluster == \"There is no such key\"):\n",
    "        print(\"task = \" + str(task))\n",
    "        break\n",
    "    data_dict[\"cluster\"].append(cluster)"
   ]
  },
  {
   "cell_type": "code",
   "execution_count": 17,
   "id": "23c141e0",
   "metadata": {
    "scrolled": true
   },
   "outputs": [
    {
     "data": {
      "text/plain": [
       "float"
      ]
     },
     "execution_count": 17,
     "metadata": {},
     "output_type": "execute_result"
    }
   ],
   "source": [
    "type(0.33)"
   ]
  },
  {
   "cell_type": "code",
   "execution_count": 48,
   "id": "6591905f",
   "metadata": {},
   "outputs": [],
   "source": [
    "def subset_data(data_dict, key_name = \"task\", key_value = 0, test_size = 0.33):\n",
    "    \"\"\"\n",
    "    Subsetting data by the value of a key.\n",
    "    \n",
    "    Parameters\n",
    "    ---\n",
    "    data_dict: dict\n",
    "        the dictionary one wants to subset\n",
    "    key_name: str\n",
    "        the key one wants to subset on\n",
    "    key_value: list / int / str\n",
    "        the value of the key desirable in the output subset\n",
    "    test_size: float\n",
    "        how to split the resulting subset; if set to zero, then the output won't be splitted\n",
    "\n",
    "    Returns\n",
    "    ---\n",
    "    \n",
    "    \"\"\"\n",
    "    if type(data_dict[key_name]) == list:\n",
    "        values = data_dict[key_name]\n",
    "    else:\n",
    "        values = list(data_dict[key_name].values())\n",
    "    \n",
    "    n_task = max(values) + 1    \n",
    "    if type(key_value) != list:\n",
    "        idx_task = [i for (i, v) in enumerate(values) if v == key_value]\n",
    "    else:\n",
    "        idx_task = [i for (i, v) in enumerate(values) if v in key_value]\n",
    "        \n",
    "    tasks = [data_dict['task'][i] for i in idx_task]\n",
    "    \n",
    "    x = [data_dict['x'][i] for i in idx_task]\n",
    "    X = np.array([np.ones(len(idx_task)), np.array(x)]).T\n",
    "    \n",
    "    y = np.array([data_dict['y'][i] for i in idx_task])\n",
    "    \n",
    "    if test_size == 0:\n",
    "        return X, y, tasks\n",
    "    else:\n",
    "        X_train, X_test, y_train, y_test = train_test_split(X, y, \n",
    "                                                        test_size = test_size,\n",
    "                                                        random_state = 123)\n",
    "    return X_train, X_test, y_train, y_test"
   ]
  },
  {
   "cell_type": "code",
   "execution_count": 49,
   "id": "4d27a142",
   "metadata": {},
   "outputs": [],
   "source": [
    "X, y, tasks = subset_data(data_dict, key_value = [0,1], key_name = \"task\", test_size = 0)"
   ]
  },
  {
   "cell_type": "code",
   "execution_count": null,
   "id": "e8934289",
   "metadata": {},
   "outputs": [],
   "source": []
  }
 ],
 "metadata": {
  "kernelspec": {
   "display_name": "Python 3",
   "language": "python",
   "name": "python3"
  },
  "language_info": {
   "codemirror_mode": {
    "name": "ipython",
    "version": 3
   },
   "file_extension": ".py",
   "mimetype": "text/x-python",
   "name": "python",
   "nbconvert_exporter": "python",
   "pygments_lexer": "ipython3",
   "version": "3.7.0"
  }
 },
 "nbformat": 4,
 "nbformat_minor": 5
}
