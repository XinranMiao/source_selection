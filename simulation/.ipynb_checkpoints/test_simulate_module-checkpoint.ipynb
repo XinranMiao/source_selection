{
 "cells": [
  {
   "cell_type": "markdown",
   "id": "19862d90",
   "metadata": {},
   "source": [
    "Testing experiments"
   ]
  },
  {
   "cell_type": "code",
   "execution_count": 1,
   "id": "9af6c18d",
   "metadata": {},
   "outputs": [],
   "source": [
    "from simulate_module import *\n",
    "\n",
    "import pandas as pd\n",
    "from pathlib import Path\n",
    "import numpy as np\n",
    "np.random.seed(1234)\n"
   ]
  },
  {
   "cell_type": "code",
   "execution_count": 2,
   "id": "4d27a142",
   "metadata": {},
   "outputs": [],
   "source": [
    "sigma_setting = {\"high_bw\": [10, .2],\n",
    "                \"medium_bw\": [1, .2],\n",
    "                \"low_bw\": [.5, .2]}"
   ]
  },
  {
   "cell_type": "code",
   "execution_count": 126,
   "id": "0fb08e77",
   "metadata": {},
   "outputs": [],
   "source": [
    "args = {\n",
    "    \"n_tasks\": 15,\n",
    "    \"conservative\": True,\n",
    "    \"target_test_size\": 0.4,\n",
    "    \"model_type\": \"lm\",\n",
    "    \"base_output_dir\": \"test\"\n",
    "}"
   ]
  },
  {
   "cell_type": "code",
   "execution_count": 127,
   "id": "ae26cadf",
   "metadata": {},
   "outputs": [],
   "source": [
    "if args[\"model_type\"] == \"lm\":\n",
    "    model_class = lm()\n",
    "    loss_fn = mse\n",
    "elif args[\"model_type\"] == \"nn\":\n",
    "    model_class = nn()\n",
    "    loss_fn =  torch.nn.MSELoss()"
   ]
  },
  {
   "cell_type": "code",
   "execution_count": 128,
   "id": "69673594",
   "metadata": {},
   "outputs": [],
   "source": [
    "s = \"high_bw\"\n",
    "    # set directory\n",
    "if args[\"conservative\"]:\n",
    "    data_path = Path(args[\"base_output_dir\"]) / Path(\"model_\" + args[\"model_type\"] + \"/conservative_derived_data\")\n",
    "else:\n",
    "    data_path = Path(args[\"base_output_dir\"]) / Path(\"model_\" + args[\"model_type\"] + \"/derived_data\")\n",
    "data_path = Path(data_path)\n",
    "working_path = data_path / s\n",
    "working_path.mkdir(parents = True, exist_ok = True)\n",
    "# generate data ------------------------------------------------\n",
    "np.random.seed(1234)\n",
    "f, betas, zs = random_functions(args[\"n_tasks\"], 6,\n",
    "                                sigma_between = sigma_setting[s][0],\n",
    "                                sigma_within = sigma_setting[s][-1])\n",
    "result = []\n",
    "for i, fi in enumerate(f):\n",
    "    x = np.random.uniform(0, 1, 100)\n",
    "    result.append({\n",
    "        \"task\": i,\n",
    "        \"x\": x,\n",
    "        \"f\": fi(x),\n",
    "        \"y\": fi(x) + np.random.normal(0, .1, len(x))\n",
    "    })\n",
    "# save data\n",
    "data_df = pd.concat([pd.DataFrame(r) for r in result])\n",
    "data_df.to_csv(working_path / \"tasks.csv\", index = False)\n",
    "data_df = data_df.reset_index()\n",
    "betas_df = np.hstack([np.arange(args[\"n_tasks\"])[:, np.newaxis], np.array(zs)[:, np.newaxis], betas])\n",
    "betas_df = pd.DataFrame(betas_df)\n",
    "betas_df.columns = [\"task\", \"cluster\"] + [f\"beta{i}\" for i in range(betas.shape[1])]\n",
    "betas_df.to_csv(working_path / \"betas.csv\", index = False)\n",
    "data_dict = data_df.to_dict(orient = \"list\")"
   ]
  },
  {
   "cell_type": "code",
   "execution_count": 68,
   "id": "b799d3ed",
   "metadata": {},
   "outputs": [],
   "source": [
    "pd.DataFrame.from_dict({\"x\": val_x[:, 1], \"y\": val_y}).to_csv(working_path / \"subset_data.csv\")"
   ]
  },
  {
   "cell_type": "code",
   "execution_count": 129,
   "id": "9063506e",
   "metadata": {},
   "outputs": [
    {
     "name": "stderr",
     "output_type": "stream",
     "text": [
      "/Users/miaoxinran/Documents/projects/source_selection22/source_selection/simulation/simulate_module.py:84: RuntimeWarning: invalid value encountered in true_divide\n",
      "  processed = (raw - raw.min(axis = 0)) / (raw.max(axis = 0) - raw.min(axis = 0))\n"
     ]
    }
   ],
   "source": [
    "input_data = prepare_input(data_dict,\n",
    "                               target_task = 5,\n",
    "                               target_test_size = args[\"target_test_size\"],\n",
    "                              preprocess = True)\n",
    "pd.DataFrame.from_dict(input_data[\"data_dict\"]).to_csv(working_path / \"tasks_processed.csv\",\n",
    "                                                           index = False)"
   ]
  },
  {
   "cell_type": "code",
   "execution_count": 140,
   "id": "7db1ce55",
   "metadata": {},
   "outputs": [],
   "source": [
    "class lm():\n",
    "    \"\"\"\n",
    "    Linear regression model\n",
    "    \"\"\"\n",
    "    def __init__(self):\n",
    "        self.model = LinearRegression()\n",
    "    def initialize(self):\n",
    "        self.model = LinearRegression()\n",
    "        return self\n",
    "    def prepare_data(self, x, y):\n",
    "        if len(x.shape) <= 1:\n",
    "            x = np.array([np.ones(x.shape), np.array(x)]).T\n",
    "        return x, y\n",
    "    def fit(self, x_train, y_train, loss_fn = None):\n",
    "        self.model.fit(x_train, y_train)\n",
    "        return self.model\n",
    "    def evaluate(self, x_test, y_test, loss_fn):\n",
    "        y_hat = self.model.predict(x_test)\n",
    "        l = loss_fn(y_test, y_hat)\n",
    "        return l\n",
    "    def combine_with_old(self, model_old, decay_rate = .5):\n",
    "        self.model.coef_ = decay_rate * model_old.coef_ + (1 - decay_rate) * self.model.coef_\n",
    "        return self.model\n",
    "    def pred(self, x_new):\n",
    "        y_hat = self.model.predict(x_new)\n",
    "        return y_hat\n",
    "    def save(self, path = \".\", x_new = None, y_new = None, para = True):\n",
    "        path = Path(path)\n",
    "        path.mkdir(parents = True, exist_ok = True)\n",
    "        if para is True:\n",
    "            pd.DataFrame.from_dict({\"coef\": self.model.coef_}).to_csv(path / Path(\"coef.csv\"))\n",
    "        if not x_new is None:\n",
    "            pd.DataFrame.from_dict({\"x\": x_new[:, 1], \"y\": y_new, \"y_hat\": self.pred(x_new)}).to_csv(path / Path(\"fitted.csv\"))\n",
    "        return para"
   ]
  },
  {
   "cell_type": "code",
   "execution_count": 141,
   "id": "bb2381ca",
   "metadata": {},
   "outputs": [],
   "source": [
    "model = lm()\n",
    "n_it = 100\n",
    "batch_size = 8\n",
    "decay_rate = .5\n",
    "conservative = False"
   ]
  },
  {
   "cell_type": "code",
   "execution_count": 142,
   "id": "51ec47bb",
   "metadata": {},
   "outputs": [],
   "source": [
    "bandit_selects = [None]\n",
    "# initialize hyperparameters\n",
    "alpha = dict.fromkeys(input_data[\"source_task\"], [1])\n",
    "beta = dict.fromkeys(input_data[\"source_task\"], [1])\n",
    "pi = dict.fromkeys(input_data[\"source_task\"], [0])\n",
    "\n",
    "mod = model\n",
    "val_x, val_y = mod.prepare_data(input_data[\"X_target_val\"], input_data[\"y_target_val\"])\n",
    "\n",
    "# initialize model from target training data\n",
    "X_current, y_current = mod.prepare_data(input_data[\"X_target_train\"], input_data[\"y_target_train\"])\n",
    "mod.fit( X_current, y_current)\n",
    "l = mod.evaluate(val_x, val_y, loss_fn = loss_fn)\n",
    "losses = [l]\n",
    "model_old = mod.model\n",
    "\n",
    "for t in range(n_it):\n",
    "    # select bandit\n",
    "    bandit_current, pi = get_bandit(input_data, alpha, beta,t, pi)\n",
    "    bandit_selects.append(bandit_current)\n",
    "    # set training data at this iteration\n",
    "    X_current, y_current, _ = subset_data(input_data[\"source_dict\"], \n",
    "                               key_value = bandit_current,\n",
    "                               key_name = \"task\", test_size = 0)\n",
    "    batch_id = random.choices(list(range(0, len(y_current))), k = batch_size)\n",
    "    X_current, y_current = X_current[batch_id, :], y_current[batch_id]\n",
    "\n",
    "    X_current = np.concatenate((X_current, input_data[\"X_target_val\"]), axis = 0)\n",
    "    y_current = np.concatenate((y_current, input_data[\"y_target_val\"]), axis = 0)\n",
    "    X_current, y_current = mod.prepare_data(X_current, y_current)\n",
    "    # train model\n",
    "    #mod_train = model.fit(X_current, y_current)\n",
    "    mod = model.initialize()\n",
    "    mod.fit(X_current, y_current, loss_fn = loss_fn)\n",
    "    # combine parameters with previous model\n",
    "    mod.combine_with_old(model_old, decay_rate = decay_rate)\n",
    "    # evaluate model\n",
    "    l = mod.evaluate(val_x, val_y, loss_fn = loss_fn)\n",
    "    losses += [l]\n",
    "    model_old = mod.model\n",
    "    # update bandit parameters\n",
    "    if conservative:\n",
    "        thres = 100000\n",
    "    else:\n",
    "        thres = avg_loss(bandit_selects, losses, bandit_current)\n",
    "    alpha, beta = update_hyper_para(alpha, beta, t, losses,\n",
    "                                    bandit_current,\n",
    "                                    thres = thres\n",
    "                                   )\n",
    "    mod.save(path = working_path / (\"current\" + str(t)), x_new = X_current, y_new = y_current, para = True)\n",
    "    mod.save(path = working_path / str(t), x_new = val_x, y_new = val_y, para = True)"
   ]
  },
  {
   "cell_type": "code",
   "execution_count": 135,
   "id": "2bd90bc3",
   "metadata": {},
   "outputs": [],
   "source": [
    "save_files(working_path, alpha, beta, losses, bandit_selects, pi, pi)"
   ]
  }
 ],
 "metadata": {
  "kernelspec": {
   "display_name": "Python 3",
   "language": "python",
   "name": "python3"
  },
  "language_info": {
   "codemirror_mode": {
    "name": "ipython",
    "version": 3
   },
   "file_extension": ".py",
   "mimetype": "text/x-python",
   "name": "python",
   "nbconvert_exporter": "python",
   "pygments_lexer": "ipython3",
   "version": "3.7.0"
  }
 },
 "nbformat": 4,
 "nbformat_minor": 5
}
