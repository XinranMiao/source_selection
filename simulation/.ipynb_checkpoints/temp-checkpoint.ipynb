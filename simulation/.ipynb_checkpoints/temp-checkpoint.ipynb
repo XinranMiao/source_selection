{
 "cells": [
  {
   "cell_type": "code",
   "execution_count": 1,
   "id": "09ae08de",
   "metadata": {},
   "outputs": [],
   "source": [
    "from simulate_module import *\n",
    "\n",
    "import pandas as pd\n",
    "import numpy as np\n",
    "np.random.seed(1234)"
   ]
  },
  {
   "cell_type": "code",
   "execution_count": 2,
   "id": "af300133",
   "metadata": {},
   "outputs": [],
   "source": [
    "data_path = \"derived_data\"\n",
    "if not os.path.isdir(data_path):\n",
    "        os.makedirs(data_path)"
   ]
  },
  {
   "cell_type": "code",
   "execution_count": 3,
   "id": "3c3d7999",
   "metadata": {},
   "outputs": [],
   "source": [
    "sigma_setting = {\"high_bw\": [10, .2],\n",
    "                \"medium_bw\": [1, .2],\n",
    "                \"low_bw\": [.5, .2]}\n"
   ]
  },
  {
   "cell_type": "code",
   "execution_count": 5,
   "id": "60bf6476",
   "metadata": {},
   "outputs": [],
   "source": [
    "n_tasks = 15\n",
    "for s in sigma_setting.keys():\n",
    "    # set directory\n",
    "    working_path = data_path + \"/\" + s\n",
    "    if not os.path.isdir(working_path):\n",
    "        os.makedirs(working_path)\n",
    "        \n",
    "    # generate data\n",
    "    f, betas, zs = random_functions(n_tasks, 6,\n",
    "                                    sigma_between = sigma_setting[s][0],\n",
    "                                    sigma_within = sigma_setting[s][-1])\n",
    "    result = []\n",
    "\n",
    "    for i, fi in enumerate(f):\n",
    "        x = np.random.uniform(0, 1, 100)\n",
    "        result.append({\n",
    "            \"task\": i,\n",
    "            \"x\": x,\n",
    "            \"f\": fi(x),\n",
    "            \"y\": fi(x) + np.random.normal(0, .1, len(x))\n",
    "        })\n",
    "    \n",
    "    # save data\n",
    "    data_df = pd.concat([pd.DataFrame(r) for r in result])\n",
    "    data_df.to_csv(working_path + \"/tasks.csv\", index = False)\n",
    "    data_df = data_df.reset_index()\n",
    "    \n",
    "\n",
    "    betas_df = np.hstack([np.arange(n_tasks)[:, np.newaxis], np.array(zs)[:, np.newaxis], betas])\n",
    "    betas_df = pd.DataFrame(betas_df)\n",
    "    betas_df.columns = [\"task\", \"cluster\"] + [f\"beta{i}\" for i in range(betas.shape[1])]\n",
    "    betas_df.to_csv(working_path + \"/betas.csv\", index = False)\n",
    "    # relationship between tasks (bandits) and their original clusters\n",
    "    d = dict.fromkeys(betas_df.cluster, [])\n",
    "    for k, v in zip(betas_df.cluster, betas_df.task):\n",
    "        d[k] = d[k] +[v]\n",
    "    \n",
    "    data_dict = data_df.to_dict()\n",
    "    # add key \"cluster\" to `data_dict`\n",
    "    data_dict[\"cluster\"] = []\n",
    "\n",
    "    for task in data_dict[\"task\"].values():\n",
    "        cluster = get_key(d, task)\n",
    "        if(cluster == \"There is no such key\"):\n",
    "            print(\"task = \" + str(task))\n",
    "            break\n",
    "        data_dict[\"cluster\"].append(cluster)\n",
    "        \n",
    "    for target_task in range(n_tasks):\n",
    "        target_test_size = 0.9\n",
    "        input_data = prepare_input(data_dict, target_task = target_task, target_test_size = target_test_size, d = d)\n",
    "        losses, alpha, beta, bandit_selects, pi, bl, bandit_weights = bandit_source_train(input_data, model = LinearRegression(), batch_size = 8,\n",
    "                                                      decay_rate = 1, n_it = 100, loss = mse)\n",
    "        output_dir = working_path + \"/target_\" + str(target_task) + \"_\" + str(target_test_size) + \"/\"\n",
    "        if not os.path.isdir(output_dir):\n",
    "            os.makedirs(output_dir)\n",
    "        pd.DataFrame.from_dict(alpha).to_csv(output_dir + \"alpha.csv\")\n",
    "        pd.DataFrame.from_dict(beta).to_csv(output_dir + \"beta.csv\")\n",
    "        pd.DataFrame.from_dict({\"losses\": losses, \"bandit_selects\": bandit_selects}).to_csv(output_dir + \"losses.csv\")\n",
    "        pd.DataFrame.from_dict(pi).to_csv(output_dir + \"pi.csv\")\n",
    "        pd.DataFrame.from_dict(bl).to_csv(output_dir + \"baseline.csv\")\n",
    "        pd.DataFrame.from_dict(bandit_weights).to_csv(output_dir + \"bandit_weights.csv\")"
   ]
  },
  {
   "cell_type": "code",
   "execution_count": null,
   "id": "d6d4f41e",
   "metadata": {},
   "outputs": [],
   "source": []
  }
 ],
 "metadata": {
  "kernelspec": {
   "display_name": "Python 3",
   "language": "python",
   "name": "python3"
  },
  "language_info": {
   "codemirror_mode": {
    "name": "ipython",
    "version": 3
   },
   "file_extension": ".py",
   "mimetype": "text/x-python",
   "name": "python",
   "nbconvert_exporter": "python",
   "pygments_lexer": "ipython3",
   "version": "3.7.0"
  }
 },
 "nbformat": 4,
 "nbformat_minor": 5
}
