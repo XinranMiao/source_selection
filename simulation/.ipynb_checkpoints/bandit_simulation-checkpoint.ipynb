{
 "cells": [
  {
   "cell_type": "code",
   "execution_count": 1,
   "id": "09ae08de",
   "metadata": {},
   "outputs": [],
   "source": [
    "import pandas as pd\n",
    "from pathlib import Path\n",
    "import numpy as np\n",
    "np.random.seed(1234)\n",
    "\n",
    "from simulate_module import *"
   ]
  },
  {
   "cell_type": "code",
   "execution_count": 2,
   "id": "986da3af",
   "metadata": {},
   "outputs": [],
   "source": [
    "sigma_setting = {\"high_bw\": [10, .2],\n",
    "                \"medium_bw\": [1, .2],\n",
    "                \"low_bw\": [.5, .2]}"
   ]
  },
  {
   "cell_type": "code",
   "execution_count": 3,
   "id": "13798d45",
   "metadata": {},
   "outputs": [],
   "source": [
    "args = {\n",
    "    \"n_tasks\": 15,\n",
    "    \"conservative\": False,\n",
    "    \"target_test_size\": 0.8,\n",
    "    \"model_type\": \"nn\",\n",
    "    \"base_output_dir\": \"derived_data\"\n",
    "}"
   ]
  },
  {
   "cell_type": "code",
   "execution_count": 4,
   "id": "d8e97dbd",
   "metadata": {},
   "outputs": [],
   "source": [
    "if args[\"model_type\"] == \"lm\":\n",
    "    model_class = lm()\n",
    "    loss_fn = mse\n",
    "elif args[\"model_type\"] == \"nn\":\n",
    "    model_class = nn()\n",
    "    loss_fn =  torch.nn.MSELoss()"
   ]
  },
  {
   "cell_type": "code",
   "execution_count": 5,
   "id": "cbcc401a",
   "metadata": {
    "scrolled": true
   },
   "outputs": [
    {
     "name": "stderr",
     "output_type": "stream",
     "text": [
      "/Users/miaoxinran/Documents/projects/source_selection22_after_rej/source_selection/simulation/simulate_module.py:84: RuntimeWarning: invalid value encountered in true_divide\n",
      "  processed = (raw - raw.min(axis = 0)) / (raw.max(axis = 0) - raw.min(axis = 0))\n",
      "/Users/miaoxinran/Documents/projects/source_selection22_after_rej/source_selection/simulation/simulate_module.py:360: UserWarning: To copy construct from a tensor, it is recommended to use sourceTensor.clone().detach() or sourceTensor.clone().detach().requires_grad_(True), rather than torch.tensor(sourceTensor).\n",
      "  y = torch.tensor(x).float()\n",
      "/Users/miaoxinran/anaconda3/lib/python3.7/site-packages/torch/nn/modules/loss.py:528: UserWarning: Using a target size (torch.Size([60, 1, 1])) that is different to the input size (torch.Size([60, 1])). This will likely lead to incorrect results due to broadcasting. Please ensure they have the same size.\n",
      "  return F.mse_loss(input, target, reduction=self.reduction)\n",
      "/Users/miaoxinran/anaconda3/lib/python3.7/site-packages/torch/nn/modules/loss.py:528: UserWarning: Using a target size (torch.Size([20, 1, 1])) that is different to the input size (torch.Size([20, 1])). This will likely lead to incorrect results due to broadcasting. Please ensure they have the same size.\n",
      "  return F.mse_loss(input, target, reduction=self.reduction)\n",
      "/Users/miaoxinran/anaconda3/lib/python3.7/site-packages/torch/nn/modules/loss.py:528: UserWarning: Using a target size (torch.Size([28, 1, 1])) that is different to the input size (torch.Size([28, 1])). This will likely lead to incorrect results due to broadcasting. Please ensure they have the same size.\n",
      "  return F.mse_loss(input, target, reduction=self.reduction)\n",
      "/Users/miaoxinran/anaconda3/lib/python3.7/site-packages/torch/nn/modules/loss.py:528: UserWarning: Using a target size (torch.Size([120, 1, 1])) that is different to the input size (torch.Size([120, 1])). This will likely lead to incorrect results due to broadcasting. Please ensure they have the same size.\n",
      "  return F.mse_loss(input, target, reduction=self.reduction)\n",
      "/Users/miaoxinran/anaconda3/lib/python3.7/site-packages/torch/nn/modules/loss.py:528: UserWarning: Using a target size (torch.Size([1400, 1])) that is different to the input size (torch.Size([1400])). This will likely lead to incorrect results due to broadcasting. Please ensure they have the same size.\n",
      "  return F.mse_loss(input, target, reduction=self.reduction)\n",
      "/Users/miaoxinran/anaconda3/lib/python3.7/site-packages/torch/nn/modules/loss.py:528: UserWarning: Using a target size (torch.Size([160, 1, 1])) that is different to the input size (torch.Size([160, 1])). This will likely lead to incorrect results due to broadcasting. Please ensure they have the same size.\n",
      "  return F.mse_loss(input, target, reduction=self.reduction)\n"
     ]
    }
   ],
   "source": [
    "for s in sigma_setting:\n",
    "    # set directory\n",
    "    if args[\"conservative\"]:\n",
    "        data_path = Path(args[\"base_output_dir\"]) / Path(\"model_\" + args[\"model_type\"] + \"/conservative_derived_data\")\n",
    "    else:\n",
    "        data_path = Path(args[\"base_output_dir\"]) / Path(\"model_\" + args[\"model_type\"] + \"/derived_data\")\n",
    "    data_path = Path(data_path)\n",
    "    working_path = data_path / s\n",
    "    working_path.mkdir(parents = True, exist_ok = True)\n",
    "    # generate data ------------------------------------------------\n",
    "    np.random.seed(1234)\n",
    "    f, betas, zs = random_functions(args[\"n_tasks\"], 6,\n",
    "                                    sigma_between = sigma_setting[s][0],\n",
    "                                    sigma_within = sigma_setting[s][-1])\n",
    "    result = []\n",
    "    for i, fi in enumerate(f):\n",
    "        x = np.random.uniform(0, 1, 100)\n",
    "        result.append({\n",
    "            \"task\": i,\n",
    "            \"x\": x,\n",
    "            \"f\": fi(x),\n",
    "            \"y\": fi(x) + np.random.normal(0, .1, len(x))\n",
    "        })\n",
    "    # save data\n",
    "    data_df = pd.concat([pd.DataFrame(r) for r in result])\n",
    "    data_df.to_csv(working_path / \"tasks.csv\", index = False)\n",
    "    data_df = data_df.reset_index()\n",
    "    betas_df = np.hstack([np.arange(args[\"n_tasks\"])[:, np.newaxis], np.array(zs)[:, np.newaxis], betas])\n",
    "    betas_df = pd.DataFrame(betas_df)\n",
    "    betas_df.columns = [\"task\", \"cluster\"] + [f\"beta{i}\" for i in range(betas.shape[1])]\n",
    "    betas_df.to_csv(working_path / \"betas.csv\", index = False)\n",
    "    data_dict = data_df.to_dict(orient = \"list\")\n",
    "    # bandit selection ------------------------------------------------\n",
    "    for target_task in range(args[\"n_tasks\"]):\n",
    "        # prepare input\n",
    "        input_data = prepare_input(data_dict,\n",
    "                                   target_task = target_task,\n",
    "                                   target_test_size = args[\"target_test_size\"],\n",
    "                                  preprocess = True)\n",
    "        pd.DataFrame.from_dict(input_data[\"data_dict\"]).to_csv(working_path / \"tasks_processed.csv\",\n",
    "                                                               index = False)\n",
    "        # bandit selection\n",
    "        losses, alpha, beta, bandit_selects, pi, bl = bandit_source_train(input_data = input_data,\n",
    "                                                                          model = model_class,\n",
    "                                                                          batch_size = 8,\n",
    "                                                                          decay_rate = .5,\n",
    "                                                                          n_it = 100,\n",
    "                                                                          loss_fn =  loss_fn,\n",
    "                                                                          conservative = args[\"conservative\"])\n",
    "        # save outputs\n",
    "        output_dir = working_path / f\"target_{target_task}_{args['target_test_size']}\"\n",
    "        save_files(output_dir, alpha, beta, losses, bandit_selects, pi, bl)"
   ]
  },
  {
   "cell_type": "code",
   "execution_count": null,
   "id": "c6eaabe8",
   "metadata": {},
   "outputs": [],
   "source": []
  }
 ],
 "metadata": {
  "kernelspec": {
   "display_name": "Python 3",
   "language": "python",
   "name": "python3"
  },
  "language_info": {
   "codemirror_mode": {
    "name": "ipython",
    "version": 3
   },
   "file_extension": ".py",
   "mimetype": "text/x-python",
   "name": "python",
   "nbconvert_exporter": "python",
   "pygments_lexer": "ipython3",
   "version": "3.7.0"
  }
 },
 "nbformat": 4,
 "nbformat_minor": 5
}
