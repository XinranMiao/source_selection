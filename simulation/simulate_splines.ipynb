{
 "cells": [
  {
   "cell_type": "code",
   "execution_count": null,
   "id": "111782b4-c8bb-487b-92ee-7b9ba2c92085",
   "metadata": {},
   "outputs": [],
   "source": [
    "import numpy as np\n",
    "import random\n",
    "np.random.seed(1234)"
   ]
  },
  {
   "cell_type": "markdown",
   "id": "278d2c4c-1d08-4205-8953-3d54f103655d",
   "metadata": {},
   "source": [
    "The functions are used to create random, but related, spline functions. A random spline is defined by multiplying the regression spline basis by a random coefficient. To create similarities across tasks, the coefficients are drawn from a mixture-of-gaussians."
   ]
  },
  {
   "cell_type": "code",
   "execution_count": null,
   "id": "6eb73512-aa95-4f4a-ab12-48f867d06506",
   "metadata": {},
   "outputs": [],
   "source": [
    "def random_functions(n_tasks, k_clusters, sigma_between, sigma_within):\n",
    "    betas, zs = gaussian_mixture(n_tasks, k_clusters, sigma_between, sigma_within)\n",
    "    functions = []\n",
    "    for beta in betas:\n",
    "        functions.append(spline_fun(beta))\n",
    "        \n",
    "    return functions, betas, zs\n",
    "\n",
    "def gaussian_mixture(n_samples, k_clusters, sigma_between, sigma_within, dim=31):\n",
    "    means = np.random.normal(0, sigma_between, (k_clusters, dim))\n",
    "    cluster_props = np.random.dirichlet(k_clusters * [1.5])\n",
    "    \n",
    "    betas, zs = [], []\n",
    "    for task in range(n_samples):\n",
    "        z = np.random.choice(range(k_clusters), p = cluster_props)\n",
    "        delta = np.random.normal(0, sigma_within, (1, dim))\n",
    "        betas.append(means[z] + delta)\n",
    "        zs.append(z)\n",
    "        \n",
    "    return np.vstack(betas), zs\n",
    "        \n",
    "def spline_fun(beta):\n",
    "    def f(x):\n",
    "        return np.matmul(basis(x), beta)\n",
    "    return f\n",
    "    \n",
    "def basis(x, knots=None, degree = 3):\n",
    "    if knots is None:\n",
    "        knots = np.linspace(0, 1, 10)\n",
    "        \n",
    "    H = [np.ones(len(x))]\n",
    "    for k in range(len(knots)):\n",
    "        for j in range(1, degree + 1):\n",
    "            H.append(pos(x - knots[k]) ** j)\n",
    "    \n",
    "    return np.vstack(H).T\n",
    "\n",
    "def pos(x):\n",
    "    x[x < 0] = 0\n",
    "    return x"
   ]
  },
  {
   "cell_type": "markdown",
   "id": "9c63e3ed-b7d5-48da-992e-7104054eb175",
   "metadata": {},
   "source": [
    "The block below uses these functions to create observations around these true random splines. `betas` are the spline coefficients for each task and `zs` are the cluster from which those coefficients are drawn."
   ]
  },
  {
   "cell_type": "code",
   "execution_count": null,
   "id": "9be5b838-b149-446f-b670-e4ab6d824f36",
   "metadata": {},
   "outputs": [],
   "source": [
    "import pandas as pd\n",
    "\n",
    "n_tasks = 15\n",
    "f, betas, zs = random_functions(n_tasks, 6, 1, .2)\n",
    "result = []\n",
    "\n",
    "for i, fi in enumerate(f):\n",
    "    x = np.random.uniform(0, 1, 100)\n",
    "    result.append({\n",
    "        \"task\": i,\n",
    "        \"x\": x,\n",
    "        \"f\": fi(x),\n",
    "        \"y\": fi(x) + np.random.normal(0, .1, len(x))\n",
    "    })"
   ]
  },
  {
   "cell_type": "markdown",
   "id": "883534ae-030b-4047-8c23-da1410c97a0f",
   "metadata": {},
   "source": [
    "For later use, we write these simulated data to csv files. (The trick is to convert the dictionaries to data.frames, which are easy to write)."
   ]
  },
  {
   "cell_type": "code",
   "execution_count": null,
   "id": "98f863fa-b6ef-4d8a-a9cb-6ef967d63448",
   "metadata": {},
   "outputs": [],
   "source": [
    "result_df = pd.concat([pd.DataFrame(r) for r in result])\n",
    "result_df.to_csv(\"~/Downloads/tasks.csv\", index = False)\n",
    "\n",
    "betas_df = np.hstack([np.arange(n_tasks)[:, np.newaxis], np.array(zs)[:, np.newaxis], betas])\n",
    "betas_df = pd.DataFrame(betas_df)\n",
    "betas_df.columns = [\"task\", \"cluster\"] + [f\"beta{i}\" for i in range(betas.shape[1])]\n",
    "betas_df.to_csv(\"~/Downloads/betas.csv\", index = False)"
   ]
  },
  {
   "cell_type": "markdown",
   "id": "ef2ddd1d-a0f0-4fb3-99e2-a5ebdc66ec8b",
   "metadata": {},
   "source": [
    "From R, you can use this code to plot the simulated data.\n",
    "\n",
    "```\n",
    "library(tidyverse)\n",
    "\n",
    "betas <- read_csv(\"~/Downloads/betas.csv\")\n",
    "x <- read_csv(\"~/Downloads/tasks.csv\")\n",
    "ggplot(x %>% left_join(betas %>% select(task, cluster))) + \n",
    "    geom_point(aes(x, y, col = as.factor(cluster))) + \n",
    "    facet_wrap(~ task, scales = \"free\")\n",
    "```"
   ]
  },
  {
   "cell_type": "code",
   "execution_count": null,
   "id": "a5b3c679-32c7-499e-9486-6b658f7e71c5",
   "metadata": {},
   "outputs": [],
   "source": []
  }
 ],
 "metadata": {
  "kernelspec": {
   "display_name": "Python 3 (ipykernel)",
   "language": "python",
   "name": "python3"
  },
  "language_info": {
   "codemirror_mode": {
    "name": "ipython",
    "version": 3
   },
   "file_extension": ".py",
   "mimetype": "text/x-python",
   "name": "python",
   "nbconvert_exporter": "python",
   "pygments_lexer": "ipython3",
   "version": "3.8.5"
  }
 },
 "nbformat": 4,
 "nbformat_minor": 5
}
